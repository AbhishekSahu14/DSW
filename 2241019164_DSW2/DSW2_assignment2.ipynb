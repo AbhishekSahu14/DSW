{
 "cells": [
  {
   "cell_type": "markdown",
   "id": "c3260317-676b-43ee-9596-6100f11d9be6",
   "metadata": {},
   "source": [
    "#### 1. Differentiate between the followings with proper examples"
   ]
  },
  {
   "cell_type": "raw",
   "id": "8101de98-ab68-4d48-94d7-d3d3ee76bfe9",
   "metadata": {},
   "source": [
    "Given: µ=2.1 years \n",
    "sigma=0.17 \n",
    "significance level= 0.05 \n",
    "n=10\n",
    "H0: μ= 2.1 H1: μ≠2.1 The sample mean (x) is (1.9+2.3+2.1+2.2+1.9+2.4+2.1+2.3+2.2+2.0)/10 = 2.14 years. \n",
    "sample standard deviation= 0.16 \n",
    "The standard error (SE) is \n",
    "SE = s/√n \n",
    "SE =0.17/√10 = 0.0537 \n",
    "\n",
    "z=x-μ/SE= 0.744 \n",
    "\n",
    "value of z for significane level 0.05 (Since this is a two-tailed test, we'll look up the critical z-value for a significance level of 0.025 on each tail.)= (-1.96, +1.96) \n",
    "Since ∣0.7436∣<1.96, we fail to reject the null hypothesis."
   ]
  },
  {
   "cell_type": "markdown",
   "id": "f4723bee-6ce2-4af6-986f-561fe1ba2f95",
   "metadata": {},
   "source": [
    "#### 2. What can you say if the company had claimed that the average life of it’s batteries are 4.1 with a standard deviation of 0.1."
   ]
  },
  {
   "cell_type": "raw",
   "id": "3d3b0c8d-86bc-44e5-966b-c1a5b8bf45d8",
   "metadata": {},
   "source": [
    "H0: µ=4.1 \n",
    "H1: µ≠4.1 \n",
    "S=0.1\n",
    "Sample mean= 2.14 years\n",
    "z= sample mean- µ/ S/ (n**1/2)= -61.98\n",
    "Value of z for 0.1 significance level= (-1.64, +1.64)\n",
    "Since ∣61.98∣>1.64, we reject the null hypothesis. "
   ]
  },
  {
   "cell_type": "markdown",
   "id": "bd981120-84f0-4f6f-ac50-9dde5f99cbb9",
   "metadata": {},
   "source": [
    "#### 3. What are random variables? Discuss about continuous and discrete random variables with examples"
   ]
  },
  {
   "cell_type": "raw",
   "id": "3bcef5e5-dc8b-4340-9176-89cfe0d2305b",
   "metadata": {},
   "source": [
    "Random Variable X=x, is interpreted as the set of elements in the sample space, which are mapped to x, Random Variable X is a function mapping probability space to the Real numbers/ a function that assigns values to each of an experiment's outcomes. (it is neither random nor variable XD don't write this bracket in exam)\n",
    "\n",
    "Discrete Random Variables: These are variables that take on a countable number of distinct values. Think of them as values you can list out. The list may be infinite, but you could write them down one by one. Eg: rolling a die, tossing a coin, number of defectives.\n",
    "\n",
    "Continuous Random Variables: These are variables that can take on any value in a given range or interval. They have an infinite number of possible values. Eg: Height of an individual, weight of an individual, Temperature."
   ]
  },
  {
   "cell_type": "markdown",
   "id": "78fce8a2-d080-417c-b557-3ffce2f3c3a3",
   "metadata": {},
   "source": [
    "#### 4. Write a program\n",
    "1. To compute the mean, median and mode of a python list.\n",
    "2. To compute the variance and standrad deviation of a vector(list). \n",
    "3. To compute the covariance and correlation between two vectors(list)."
   ]
  },
  {
   "cell_type": "code",
   "execution_count": 9,
   "id": "c2305181-2405-4cee-b372-288d8cbbc836",
   "metadata": {},
   "outputs": [
    {
     "name": "stdout",
     "output_type": "stream",
     "text": [
      " Mean:5.0, Median:5.0, Mode: 5\n"
     ]
    }
   ],
   "source": [
    "import numpy as np\n",
    "from statistics import *\n",
    "data = [1, 2, 3, 4, 5, 5, 6, 7, 8, 9]\n",
    "print(f' Mean:{np.mean(data)}, Median:{np.median(data)}, Mode: {mode(data)}')"
   ]
  },
  {
   "cell_type": "code",
   "execution_count": 11,
   "id": "b7daa290-0af0-4e22-b82f-2bb1974e4d13",
   "metadata": {},
   "outputs": [
    {
     "name": "stdout",
     "output_type": "stream",
     "text": [
      " Variance: 6.0, Standard Deviation:2.45\n"
     ]
    }
   ],
   "source": [
    "print(f' Variance: {np.var(data):}, Standard Deviation:{np.std(data):.2f}')"
   ]
  },
  {
   "cell_type": "code",
   "execution_count": 12,
   "id": "162a8160-5766-4291-993d-11ba46d7d7ef",
   "metadata": {},
   "outputs": [
    {
     "name": "stdout",
     "output_type": "stream",
     "text": [
      "Covariance:-2.5, Correlation: -0.9999999999999999\n"
     ]
    }
   ],
   "source": [
    "import pandas as pd\n",
    "data1 = [1, 2, 3, 4, 5]\n",
    "data2 = [5, 4, 3, 2, 1]\n",
    "df = pd.DataFrame({'data1': data1, 'data2': data2})\n",
    "cov= df['data1'].cov(df['data2'])\n",
    "corr=df['data1'].corr(df['data2'])\n",
    "print(f'Covariance:{cov}, Correlation: {corr}')"
   ]
  },
  {
   "cell_type": "markdown",
   "id": "4c16add1-451b-49e2-8000-8b45bc011a19",
   "metadata": {},
   "source": [
    "#### 5. State central limit theorem. Demonstrate CLT with an example. Use python programming for the following steps. Consider a population which satisfies binomial distribution. Draw for the following steps. Consider a population which satisfies binomial distribution. Draw random samples from the population, find each sample mean. What can you say about the list containing sample means. random samples from the population, find each sample mean. What can you say about the list containing sample means"
   ]
  },
  {
   "cell_type": "raw",
   "id": "60d8af99-bbed-463e-8261-1b485c5417c3",
   "metadata": {},
   "source": [
    "The Central Limit Theorem (CLT) states that the sampling distribution  of the sample mean approaches a normal distribution as the sample  size increases, regardless of the shape of the population distribution. (usually when n>=30).\n",
    "\n",
    "To illustrate this thing I'll write a code in python but you don't have to just draw the diagram (I don't wanna sit here and import pictures).\n",
    "\n",
    "Let the expirement be tossing an unbiased coin with 10000 tosses. let's take 1000 samples from these 10000 population let each sample be of size 30.\n",
    "\n",
    "We will randomly take any values from the 10000 tosses (population) to form 1000 such samples and calculate mean of each sample and then plot all of those means."
   ]
  },
  {
   "cell_type": "code",
   "execution_count": 14,
   "id": "42bcc844-ae89-426b-809d-da3ab0a5a490",
   "metadata": {},
   "outputs": [
    {
     "data": {
      "image/png": "[encoded data removed]",
      "text/plain": [
       "<Figure size 640x480 with 2 Axes>"
      ]
     },
     "metadata": {},
     "output_type": "display_data"
    }
   ],
   "source": [
    "import matplotlib.pyplot as plt\n",
    "import seaborn as sns\n",
    "population_size = 10000\n",
    "n_samples = 1000\n",
    "sample_size = 30\n",
    "population = np.random.binomial(n=1, p=0.5, size=population_size)\n",
    "\n",
    "sample_means = [np.mean(np.random.choice(population, size=sample_size)) for _ in range(n_samples)]\n",
    "\n",
    "plt.subplot(2,1,1)\n",
    "plt.hist(population,  density=True, color='skyblue', edgecolor='black')\n",
    "plt.subplot(2,1,2)\n",
    "plt.hist(sample_means,  bins=30, density=True, color='skyblue', edgecolor='black')\n",
    "plt.title('Distribution of Sample Means (CLT Demonstration)')\n",
    "plt.xlabel('Sample Mean')\n",
    "plt.ylabel('Probability Density')\n",
    "plt.grid(True)\n",
    "plt.tight_layout()\n",
    "plt.show()"
   ]
  },
  {
   "cell_type": "raw",
   "id": "e2a8df25-8e30-4895-a663-f6e21228600f",
   "metadata": {},
   "source": [
    "As you can see first figure shows a binomial distribution with just two\\noptions as answer 0 or 1 but as you keep taking sample means and \\nplot the sampling distribution it makes a normal distribution"
   ]
  },
  {
   "cell_type": "code",
   "execution_count": 15,
   "id": "4300764e-8222-406d-bd26-6c22e3d7da5e",
   "metadata": {},
   "outputs": [
    {
     "data": {
      "text/plain": [
       "<seaborn.axisgrid.FacetGrid at 0x22f85cc10d0>"
      ]
     },
     "execution_count": 15,
     "metadata": {},
     "output_type": "execute_result"
    },
    {
     "data": {
      "image/png": "[encoded data removed]",
      "text/plain": [
       "<Figure size 500x500 with 1 Axes>"
      ]
     },
     "metadata": {},
     "output_type": "display_data"
    }
   ],
   "source": [
    "sns.displot(sample_means, kind=\"kde\")"
   ]
  },
  {
   "cell_type": "markdown",
   "id": "5614fea4-50dc-4696-a63e-48644d07bc69",
   "metadata": {},
   "source": [
    "#### 6. What is Baye’s theorem. What are some real-world applications of Bayes’ theorem in fields such as medicine and machine learning?"
   ]
  },
  {
   "cell_type": "markdown",
   "id": "093555bf-7a89-429a-bce8-dbdf08ea11ce",
   "metadata": {},
   "source": [
    "Baye's theorem describes the probability of an event, based on prior knowledge of conditions that might be related to the event. It is expressed mathematically as: \n",
    "P(A∣B)= P(B∣A)⋅P(A)/ P(B)\n",
    "\n",
    "Where:\n",
    " P(A∣B) is the probability of event A occurring given that event B has occurred.\n",
    " P(B∣A) is the probability of event B occurring given that event A has occurred.\n",
    " P(A) and P(B) are the probabilities of events A and B occurring independently.\n",
    "Real-World Applications: \n",
    "1. Medicine:\n",
    " Medical Diagnosis: Bayes' theorem is used in medical diagnosis to assess the probability of a patient having a particular disease given certain symptoms.\n",
    " \n",
    " Genetic Testing: Bayes' theorem is applied in genetics to interpret the results of genetic testing and assess the likelihood of an individual having a genetic disorder based on their genetic makeup.\n",
    " \n",
    " 2. Machine Learning:\n",
    " Spam Filtering: Bayes' theorem is used in spam filtering algorithms to classify emails as spam or non-spam. It calculates the probability that an email is spam given certain features (e.g., words in the email).\n",
    " Other examples can be Quality control, fault analysis, risk management,etc."
   ]
  },
  {
   "cell_type": "markdown",
   "id": "5daef1e0-672c-4a56-add0-7b1ebed0d3ce",
   "metadata": {},
   "source": [
    "#### 7. A certain disease affects 1 in every 500 people. A diagnostic test for the disease is 99% accurate when a person has the disease and 95% accurate when a person does not have accurate when a person has the disease and 95% accurate when a person does not have the disease. If a person tests positive for the disease, what is the probability that they actually have it?"
   ]
  },
  {
   "cell_type": "raw",
   "id": "bade40da-0973-4b1b-8ce1-7dde30a8ae6f",
   "metadata": {},
   "source": [
    "Let events be, \n",
    "D: The person has the disease.\n",
    "D': The person does not have the disease.\n",
    "T : The person tests positive for the disease.\n",
    "                             \n",
    "P(D)= 1/5000=0.002\n",
    "P(D')=1P(D)=0.998\n",
    "P(T∣D)= 0.99 (99% accuracy).\n",
    "P(T∣D')=1-0.95= 0.05 (5% false positive rate)\n",
    "   \n",
    "P(D|T)=P(T|D)P(D)/P(T|D)P(D)+P(T|D')*P(D')=0.038=3.8%\n",
    "I know the result looks weird but that's due to low prevalence of disease (1 in 500)"
   ]
  },
  {
   "cell_type": "markdown",
   "id": "e56db993-bfc6-4f5c-bbcb-64126bbe4af7",
   "metadata": {},
   "source": [
    "#### 8. In a spam detection system, 1% of emails are actually spam. The spam filter correctly identifies 95%of spam emails but also incorrectly marks 3% of legitimate emails as spam. If identifies 95%of spam emails but also incorrectly marks 3% of legitimate emails as spam. If an email is flagged as spam by the filter, what is the probability that it is actually spam."
   ]
  },
  {
   "cell_type": "raw",
   "id": "740edaf1-9e3f-4f11-89dd-02b0b58a469e",
   "metadata": {},
   "source": [
    "Let events be, \n",
    "S: Mail is spam\n",
    "S': Mail is not spam\n",
    "F: Mail is flagged as spam\n",
    "\n",
    "P(S)=0.01\n",
    "P(S')=0.99\n",
    "P(F|S)=0.95\n",
    "P(F|S')=0.03\n",
    "  \n",
    "P(S|F)= 0.950.01/0.950.01+0.03+0.99=0.2432= 24.32%"
   ]
  },
  {
   "cell_type": "markdown",
   "id": "0635391d-ee01-4ec2-b9d0-0420e2fdff9a",
   "metadata": {},
   "source": [
    "#### 9. Consider two vectors of length n(input from the user). Take the vectors as input from the user. Write a python program to find the\n",
    "a. It’s dot product \n",
    "b. Distance between two vectors.\n",
    "c. Sum of the two vectors.\n",
    "d. Normalize a vector"
   ]
  },
  {
   "cell_type": "code",
   "execution_count": 16,
   "id": "d5ad24ff-ab57-4927-8064-a300ee3b26d8",
   "metadata": {},
   "outputs": [
    {
     "name": "stdin",
     "output_type": "stream",
     "text": [
      "Enter the length of the vectors:  3\n",
      "Enter element 1 of the vector:  2\n",
      "Enter element 2 of the vector:  4\n",
      "Enter element 3 of the vector:  1\n",
      "Enter element 1 of the vector:  5\n",
      "Enter element 2 of the vector:  3\n",
      "Enter element 3 of the vector:  2\n"
     ]
    },
    {
     "name": "stdout",
     "output_type": "stream",
     "text": [
      "The dot product of the two vectors is: 24.0\n",
      "The Euclidean distance between the two vectors is: 3.3166247903554\n",
      "The Euclidean distance between the two vectors is: 3.3166247903554\n",
      "The normalized form of the first vector is: [0.4364357804719848, 0.8728715609439696, 0.2182178902359924]\n",
      "The normalized form of the first vector is: [0.8111071056538127, 0.48666426339228763, 0.3244428422615251]\n"
     ]
    }
   ],
   "source": [
    "import numpy as np\n",
    "import math\n",
    "def input_vector(n):\n",
    "    vector = []\n",
    "    for i in range(n):\n",
    "        element = float(input(f\"Enter element {i+1} of the vector: \"))\n",
    "        vector.append(element)\n",
    "    return vector\n",
    "n = int(input(\"Enter the length of the vectors: \"))\n",
    "vector1 = input_vector(n)\n",
    "vector2 = input_vector(n)\n",
    "\n",
    "dot_product = sum(x * y for x, y in zip(vector1, vector2))\n",
    "print(f\"The dot product of the two vectors is: {dot_product}\")\n",
    "\n",
    "distance = math.sqrt(sum((x - y) ** 2 for x,y in zip(vector1, vector2)))\n",
    "print(f\"The Euclidean distance between the two vectors is: {distance}\")\n",
    "\n",
    "sum_vector = [x+y for x,y in zip(vector1,vector2)]\n",
    "print(f\"The Euclidean distance between the two vectors is: {distance}\")\n",
    "\n",
    "magnitude1 = math.sqrt(sum(x ** 2 for x in vector1))\n",
    "magnitude2 = math.sqrt(sum(x ** 2 for x in vector2))\n",
    "\n",
    "normalized_vector1 = [x / magnitude1 for x in vector1]\n",
    "normalized_vector2 = [x / magnitude2 for x in vector2]\n",
    "print(f\"The normalized form of the first vector is: {normalized_vector1}\")\n",
    "print(f\"The normalized form of the first vector is: {normalized_vector2}\")"
   ]
  },
  {
   "cell_type": "markdown",
   "id": "f7a5cf3e-ac8b-4599-906a-c1b2eb743b38",
   "metadata": {},
   "source": [
    "#### 10. Take two 2 × 2 matrices as user input. Write a python program to find the sum of the two matrices."
   ]
  },
  {
   "cell_type": "code",
   "execution_count": 7,
   "id": "1beabfff-dda6-45c7-94c2-79bc807055b7",
   "metadata": {},
   "outputs": [
    {
     "name": "stdout",
     "output_type": "stream",
     "text": [
      "Enter the elements for the first 2x2 matrix:\n"
     ]
    },
    {
     "name": "stdin",
     "output_type": "stream",
     "text": [
      " 1\n",
      " 2\n",
      " 4\n",
      " 3\n"
     ]
    },
    {
     "name": "stdout",
     "output_type": "stream",
     "text": [
      "Enter the elements for the second 2x2 matrix:\n"
     ]
    },
    {
     "name": "stdin",
     "output_type": "stream",
     "text": [
      " 5\n",
      " 3\n",
      " 6\n",
      " 2\n"
     ]
    },
    {
     "data": {
      "text/plain": [
       "[[6, 5], [10, 5]]"
      ]
     },
     "execution_count": 7,
     "metadata": {},
     "output_type": "execute_result"
    }
   ],
   "source": [
    "print(\"Enter the elements for the first 2x2 matrix:\")\n",
    "matrix1 = [[int(input()) for _ in range(2)] for _ in range(2)]\n",
    "print(\"Enter the elements for the second 2x2 matrix:\")\n",
    "matrix2 = [[int(input()) for _ in range(2)] for  _ in range(2)]\n",
    "result = [[matrix1[i][j] + matrix2[i][j] for j in range(len(matrix1[0]))] for i in range(len(matrix1))]\n",
    "result"
   ]
  }
 ],
 "metadata": {
  "kernelspec": {
   "display_name": "Python 3 (ipykernel)",
   "language": "python",
   "name": "python3"
  },
  "language_info": {
   "codemirror_mode": {
    "name": "ipython",
    "version": 3
   },
   "file_extension": ".py",
   "mimetype": "text/x-python",
   "name": "python",
   "nbconvert_exporter": "python",
   "pygments_lexer": "ipython3",
   "version": "3.12.2"
  }
 },
 "nbformat": 4,
 "nbformat_minor": 5
}
