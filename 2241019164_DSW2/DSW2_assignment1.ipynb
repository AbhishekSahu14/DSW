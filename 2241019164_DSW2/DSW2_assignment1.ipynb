{
 "cells": [
  {
   "cell_type": "markdown",
   "id": "06c9e230-a8e7-4fb6-a3f6-06694076834a",
   "metadata": {},
   "source": [
    "#### 1. Differentiate between the followings with proper examples\n",
    " a. all() vs any()\n",
    " b. dictionary vs default dictionary\n",
    " c. *args and **kwargs\n",
    " d. Data science vs data engineers"
   ]
  },
  {
   "cell_type": "raw",
   "id": "30ae2565-3938-46a6-9c52-2bc87b0919e8",
   "metadata": {},
   "source": [
    "a. all() function returns True if all elements of the iterable (Lists, tuples, dictionaries, and sets) are true (or if the iterable is empty) Otherwise, it returns False. \n",
    "   any() function returns True if any element of the iterable is true. If the iterable is empty, it returns False. \n",
    "Example: list3 = [False, False, True]\n",
    "print(any(list3)) # Output: True\n",
    "\n",
    "b. Dictionary is a built-in Python data type that stores key-value pairs where each key is unique. Accessing a key that doesn't exist in a dictionary results in a KeyError. \n",
    "   DefaultDict is a subclass of the built-in dictionary class that provides a default value for the key that does not exist when accessing a key that isn't already in the dictionary. \n",
    "Example: dict = {'a': 1, 'b': 2}\n",
    "print(dict.get('c', 'Key not found')) # Output: Key not found\n",
    "default_dict = defaultdict(lambda: 'Key not found')\n",
    "default_dict['a'] = 1\n",
    "print(default_dict['c']) # Output: Key not found\n",
    "\n",
    "c. *args is used to pass a variable number of non-keyword arguments to a function. \n",
    "   **kwargs is used to pass a variable number of keyword arguments to a function. \n",
    "def example_function(args, **kwargs):\n",
    " print(\"Positional arguments (args):\", args)\n",
    " print(\"Keyword arguments (**kwargs):\", kwargs)\n",
    "example_function(1, 2, 3, a='apple', b='banana') \n",
    "Output:\n",
    " # Positional arguments (*args): (1, 2, 3)\n",
    " # Keyword arguments (**kwargs): {'a': 'apple', 'b': 'banana'}\n",
    "\n",
    "d. Data Science involves extracting insights and knowledge from structured and unstructured data using various techniques, including statistical analysis, machine learning, data visualization, and more. Data scientists focus on analyzing data to make predictions and decisions.\n",
    "\n",
    "Data Engineers design, build, and maintain the systems that allow data to be processed and analyzed effectively. They are responsible for creating and managing the infrastructure that enables data scientists to work efficiently, including data pipelines, databases, and storage systems. \n",
    "Example: \n",
    "In a company, a data scientist might analyze customer data to identify patterns and trends for targeted marketing campaigns.\n",
    "Meanwhile, a data engineer would be responsible for designing and maintaining the data infrastructure, such as setting up databases and data pipelines to ensure that the data scientist can access and analyze the data efficiently."
   ]
  },
  {
   "cell_type": "markdown",
   "id": "ae9c19f3-addd-4def-800a-40c3a0497214",
   "metadata": {},
   "source": [
    "#### 2. Consider the data containing the salary and tenure of some employees. salaries and tenures = \n",
    "[(83000,8.7), (88000, 8.1), (48000, 0.7), (76000, 6), (69000, 6.5), (76000, 7.5), (89000, 8.7), (60000, 1.8), (83000, 3.5), (68000, 8.1),(48000, 0.7), (63000, 1.8),(25000, 3.5)]\n",
    "\n",
    "a. Find the average salary of each tenure \n",
    "b. Group together the salaries corresponding to the following bucket of tenures, less than two, \n",
    "between two and five, more than 5 \n",
    "c. Compute the average salary for each group(bucket of tenures)"
   ]
  },
  {
   "cell_type": "code",
   "execution_count": 3,
   "id": "8fab3ac7-1767-463c-b79b-139444718221",
   "metadata": {},
   "outputs": [
    {
     "name": "stdout",
     "output_type": "stream",
     "text": [
      "Average salary by tenure:\n",
      "8.7: 89000.00\n",
      "8.1: 68000.00\n",
      "0.7: 48000.00\n",
      "6: 76000.00\n",
      "6.5: 69000.00\n",
      "7.5: 76000.00\n",
      "1.8: 63000.00\n",
      "3.5: 25000.00\n",
      "\n",
      "Grouped salaries:\n",
      "less_than_two: [48000, 60000, 48000, 63000]\n",
      "two_to_five: [83000, 25000]\n",
      "more_than_five: [83000, 88000, 76000, 69000, 76000, 89000, 68000]\n",
      "\n",
      "Average salary by group:\n",
      "less_than_two: 25000.00\n",
      "two_to_five: 25000.00\n",
      "more_than_five: 25000.00\n"
     ]
    }
   ],
   "source": [
    "import numpy as np\n",
    "s_t = [(83000, 8.7), (88000, 8.1), (48000, 0.7), (76000, 6), (69000, 6.5),\n",
    " (76000, 7.5), (89000, 8.7), (60000, 1.8), (83000, 3.5), (68000, 8.1),\n",
    " (48000, 0.7), (63000, 1.8), (25000, 3.5)]\n",
    "avg_s_t= {t: s for s, t in s_t}\n",
    "print(\"Average salary by tenure:\")\n",
    "for tenure, avg_salary in avg_s_t.items():\n",
    "    print(f\"{tenure}: {avg_salary:.2f}\")\n",
    "group_names = ['less_than_two', 'two_to_five', 'more_than_five']\n",
    "group_ranges = [(0, 2), (2, 5), (5, np.inf)]\n",
    "\n",
    "grouped_salaries = {name: [] for name in group_names}\n",
    "for salary, tenure in s_t:\n",
    "    for i, (lower, upper) in enumerate(group_ranges):\n",
    "        if lower <= tenure < upper:\n",
    "            grouped_salaries[group_names[i]].append(salary)\n",
    "            break\n",
    "            \n",
    "print(\"\\nGrouped salaries:\")\n",
    "for name, salaries in grouped_salaries.items():\n",
    "    print(f\"{name}: {salaries}\")\n",
    "    \n",
    "average_salary_by_group = {name: np.mean(salaries) for name, avg_salary in grouped_salaries.items()}\n",
    "print(\"\\nAverage salary by group:\")\n",
    "for name, salaries in average_salary_by_group.items():\n",
    "    print(f\"{name}: {avg_salary:.2f}\")"
   ]
  },
  {
   "cell_type": "markdown",
   "id": "63fa0d02-3c22-4855-866f-637b3d32d38f",
   "metadata": {},
   "source": [
    "#### 3.Explain the use of assert statements in python, with an example"
   ]
  },
  {
   "cell_type": "markdown",
   "id": "6ca954b2-030e-4f29-a50e-44a62561208f",
   "metadata": {},
   "source": [
    "In Python, an assert statement is used for debugging purposes during the development process. It checks if a given condition is True; if the condition is not satisfied (i.e., if it is False), an AssertionError is raised. "
   ]
  },
  {
   "cell_type": "code",
   "execution_count": 4,
   "id": "1225e9ac-f9f6-4dde-a8b7-af2b2d4ae677",
   "metadata": {},
   "outputs": [
    {
     "ename": "AssertionError",
     "evalue": "1+1=2 not 3",
     "output_type": "error",
     "traceback": [
      "\u001b[1;31m---------------------------------------------------------------------------\u001b[0m",
      "\u001b[1;31mAssertionError\u001b[0m                            Traceback (most recent call last)",
      "Cell \u001b[1;32mIn[4], line 2\u001b[0m\n\u001b[0;32m      1\u001b[0m \u001b[38;5;66;03m# Example\u001b[39;00m\n\u001b[1;32m----> 2\u001b[0m \u001b[38;5;28;01massert\u001b[39;00m \u001b[38;5;241m1\u001b[39m\u001b[38;5;241m+\u001b[39m\u001b[38;5;241m1\u001b[39m\u001b[38;5;241m==\u001b[39m\u001b[38;5;241m3\u001b[39m, \u001b[38;5;124m\"\u001b[39m\u001b[38;5;124m1+1=2 not 3\u001b[39m\u001b[38;5;124m\"\u001b[39m\n",
      "\u001b[1;31mAssertionError\u001b[0m: 1+1=2 not 3"
     ]
    }
   ],
   "source": [
    "# Example\n",
    "assert 1+1==3, \"1+1=2 not 3\""
   ]
  },
  {
   "cell_type": "markdown",
   "id": "51956cd3-6359-4566-92f7-2b6a6a511673",
   "metadata": {},
   "source": [
    "#### 4. Count frequencies of various alphabets (Convert upper case into lower case and input given by user), plot the results for this as a bar chart with x-axis being the letter and y-axis as the corresponding frequency."
   ]
  },
  {
   "cell_type": "code",
   "execution_count": 7,
   "id": "ee873a0e-e886-41f5-8bd4-29165434d09a",
   "metadata": {},
   "outputs": [
    {
     "name": "stdin",
     "output_type": "stream",
     "text": [
      "Enter your String: vgccctydtdldltu\n"
     ]
    },
    {
     "name": "stdout",
     "output_type": "stream",
     "text": [
      "{'v': 1, 'g': 1, 'c': 3, 't': 3, 'y': 1, 'd': 3, 'l': 2, 'u': 1}\n"
     ]
    },
    {
     "data": {
      "image/png": "[encoded data removed]",
      "text/plain": [
       "<Figure size 640x480 with 1 Axes>"
      ]
     },
     "metadata": {},
     "output_type": "display_data"
    }
   ],
   "source": [
    "import matplotlib.pyplot as plt\n",
    "s = input(\"Enter your String:\")\n",
    "freq_dict = {}\n",
    "for char in s:\n",
    "    if char.isalpha():\n",
    "        char= char.lower()\n",
    "        if char not in freq_dict:\n",
    "            freq_dict[char] = 0\n",
    "        freq_dict[char] += 1\n",
    "print(freq_dict)\n",
    "\n",
    "sorted_freq = sorted(freq_dict.items(), key=lambda x: x[0])\n",
    "letters = [x[0] for x in sorted_freq]\n",
    "frequencies = [x[1] for x in sorted_freq]\n",
    "plt.bar(letters, frequencies)\n",
    "plt.xlabel(\"Letters\")\n",
    "plt.ylabel(\"Frequency\")\n",
    "plt.title(\"Frequency of Alphabets in Input String\")\n",
    "plt.show()"
   ]
  },
  {
   "cell_type": "markdown",
   "id": "910b4764-7e6c-431f-8c6b-c7b273004f8a",
   "metadata": {},
   "source": [
    "#### 5. Download the following data Company sales data.csv. Draw a line plot between month numbers and company’s profit per month. Give the X-axis name as ’Months’ and Y-axis name as ’Profit’. Give the title of the graph to ’Profits per month’. Keep the line Style dotted and line-color to be red. Show the legend at the top left corner. and line-color to be red. Show the legend at the top left corner"
   ]
  },
  {
   "cell_type": "code",
   "execution_count": null,
   "id": "f5d48d43-cde6-4b3f-9caa-ffd06667e8ce",
   "metadata": {},
   "outputs": [],
   "source": [
    "import pandas as pd\n",
    "df = pd.read_csv()\n",
    "plt.plot(df['month_number'], df['total_profit'], linestyle='-.', color='red', label='Total Units Sold')\n",
    "plt.xlabel('Months')\n",
    "plt.ylabel('Total Units Sold')\n",
    "plt.title('Total Units Sold per Month')\n",
    "plt.legend(loc='upper left')\n",
    "plt.show()"
   ]
  },
  {
   "cell_type": "markdown",
   "id": "65522680-990a-4ff1-a2bc-c4614666eeae",
   "metadata": {},
   "source": [
    "#### 6. Read all product sales data and show it using a multiline plot Display the number of units sold per month for each product using multiline plots. (i.e., Separate Plot line for each sold per month for each product using multiline plots. (i.e., Separate Plot line for each product ). Keep the legend on the top left corner."
   ]
  },
  {
   "cell_type": "code",
   "execution_count": null,
   "id": "d6a2dfe6-347e-4b9e-80b3-a549a7fceafb",
   "metadata": {},
   "outputs": [],
   "source": [
    "products = df.columns[1:7]\n",
    "plt.figure(figsize=(10, 6))\n",
    "for product in products:\n",
    "    plt.plot(df['month_number'], df[product], marker='o', label=product)\n",
    "plt.xlabel('Month')\n",
    "plt.ylabel('Units Sold')\n",
    "plt.title('Product Sales per Month')\n",
    "plt.legend(loc='upper left')\n",
    "plt.grid(True)\n",
    "plt.show()"
   ]
  },
  {
   "cell_type": "markdown",
   "id": "fb7aaf92-15b1-4352-a7f9-bace2d456b57",
   "metadata": {},
   "source": [
    "#### 7. Calculate total sale data for last year for each product and show it using a Pie chart Note: In Pie chart display Number of units sold per year for each product in percentage."
   ]
  },
  {
   "cell_type": "code",
   "execution_count": null,
   "id": "bee403f5-9e83-4f74-9fe1-71d2cd150ff6",
   "metadata": {},
   "outputs": [],
   "source": [
    "total_units = df[products].sum()\n",
    "percentage_sold = (total_units / total_units.sum()) * 100\n",
    "plt.figure(figsize=(12, 7))\n",
    "plt.pie(percentage_sold, labels=percentage_sold.index, autopct='%1.1f%%')\n",
    "plt.title('Percentage of Units Sold per Product Last Year') \n",
    "plt.show()"
   ]
  }
 ],
 "metadata": {
  "kernelspec": {
   "display_name": "Python 3 (ipykernel)",
   "language": "python",
   "name": "python3"
  },
  "language_info": {
   "codemirror_mode": {
    "name": "ipython",
    "version": 3
   },
   "file_extension": ".py",
   "mimetype": "text/x-python",
   "name": "python",
   "nbconvert_exporter": "python",
   "pygments_lexer": "ipython3",
   "version": "3.12.2"
  }
 },
 "nbformat": 4,
 "nbformat_minor": 5
}
