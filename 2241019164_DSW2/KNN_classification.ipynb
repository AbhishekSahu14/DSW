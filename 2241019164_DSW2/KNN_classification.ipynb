{
 "cells": [
  {
   "cell_type": "code",
   "execution_count": 1,
   "id": "1686d848-1502-42ec-8937-2a72e7f63bc0",
   "metadata": {},
   "outputs": [],
   "source": [
    "import numpy as np\n",
    "x=np.array([[165,75],[170,85],[180,62],[169,70],[172,72]])\n",
    "y=np.array([\"overweight\",\"overweight\",\"normal\",\"normal\",\"normal\"])\n",
    "y_pred=np.array([173,75])"
   ]
  },
  {
   "cell_type": "code",
   "execution_count": 2,
   "id": "a3bce7e0-7368-4663-b823-7af62bf42e24",
   "metadata": {},
   "outputs": [],
   "source": [
    "def euc_distance(x,y_pred):\n",
    "    dis=np.sqrt(np.sum(np.square(x-y_pred)))\n",
    "    return dis"
   ]
  },
  {
   "cell_type": "code",
   "execution_count": 3,
   "id": "13b8c72c-94de-4bad-87b2-d4b22109317b",
   "metadata": {},
   "outputs": [
    {
     "name": "stdout",
     "output_type": "stream",
     "text": [
      "[('overweight', 8.0), ('overweight', 10.44030650891055), ('normal', 14.7648230602334), ('normal', 6.4031242374328485), ('normal', 3.1622776601683795)]\n"
     ]
    }
   ],
   "source": [
    "l=[]\n",
    "for i in range(len(x)):\n",
    "    s=(y[i],euc_distance(x[i],y_pred))\n",
    "    l.append(s)\n",
    "print(l)"
   ]
  },
  {
   "cell_type": "code",
   "execution_count": 4,
   "id": "eb20207f-d93b-4276-a264-4d49001e5b31",
   "metadata": {},
   "outputs": [
    {
     "data": {
      "text/plain": [
       "[('normal', 3.1622776601683795),\n",
       " ('normal', 6.4031242374328485),\n",
       " ('overweight', 8.0),\n",
       " ('overweight', 10.44030650891055),\n",
       " ('normal', 14.7648230602334)]"
      ]
     },
     "execution_count": 4,
     "metadata": {},
     "output_type": "execute_result"
    }
   ],
   "source": [
    "l.sort(key=lambda x:x[1])\n",
    "l"
   ]
  },
  {
   "cell_type": "code",
   "execution_count": 7,
   "id": "1367a029-2f4d-4ff6-8206-605063b4030c",
   "metadata": {},
   "outputs": [
    {
     "data": {
      "text/plain": [
       "[('normal', 3.1622776601683795),\n",
       " ('normal', 6.4031242374328485),\n",
       " ('overweight', 8.0)]"
      ]
     },
     "execution_count": 7,
     "metadata": {},
     "output_type": "execute_result"
    }
   ],
   "source": [
    "# k=3\n",
    "# sort=l[:k]\n",
    "# sort"
   ]
  },
  {
   "cell_type": "code",
   "execution_count": 8,
   "id": "6a9d8cd0-db97-4a2d-aaf5-1a045671c710",
   "metadata": {},
   "outputs": [],
   "source": [
    "# category_counts=Counter(x[0] for x in sort)\n",
    "# msc=category_counts.most_common(1)\n",
    "# msc"
   ]
  },
  {
   "cell_type": "code",
   "execution_count": 9,
   "id": "4557e7ad-d3f6-47c4-aed7-19a2cb1b0f95",
   "metadata": {},
   "outputs": [
    {
     "data": {
      "text/plain": [
       "'normal'"
      ]
     },
     "execution_count": 9,
     "metadata": {},
     "output_type": "execute_result"
    }
   ],
   "source": [
    "from collections import Counter\n",
    "def most_common(l,k):\n",
    "    new=l[:k]\n",
    "    count=Counter([x[0] for x in new])\n",
    "    msc=count.most_common(1)\n",
    "    return msc[0][0]\n",
    "most_common(l,3)"
   ]
  },
  {
   "cell_type": "code",
   "execution_count": 10,
   "id": "decc9b8d-2c74-48a7-909c-2046291e887e",
   "metadata": {},
   "outputs": [
    {
     "data": {
      "text/plain": [
       "array(['normal', 'normal'], dtype='<U6')"
      ]
     },
     "execution_count": 10,
     "metadata": {},
     "output_type": "execute_result"
    }
   ],
   "source": [
    "def knn_classifier(x_train,y_train,x_test,k):\n",
    "    y_predict=[]\n",
    "    for x in x_test:\n",
    "        l=[]\n",
    "        for i in range(len(x_train)):\n",
    "            s=(y_train[i],euc_distance(x,x_train[i]))\n",
    "            l.append(s)\n",
    "        freq=most_common(l,k)\n",
    "        y_predict.append(freq)\n",
    "    return np.array(y_predict)\n",
    "x_train=np.array([[165,75],[170,85],[180,62],[169,70],[172,72]])\n",
    "y_train=np.array([\"overweight\",\"overweight\",\"normal\",\"normal\",\"normal\"])\n",
    "x_test=np.array([[173,75],[140,60]])\n",
    "y_test=np.array([\"overweight\",\"normal\"])\n",
    "knn_classifier(x_train,y_train,x_test,5)"
   ]
  },
  {
   "cell_type": "code",
   "execution_count": 16,
   "id": "cb1ad365-5d6d-4805-a17c-5d950cd79d65",
   "metadata": {},
   "outputs": [],
   "source": [
    "# import ssl\n",
    "# ssl._create_default_https_context=ssl._create_unverified_context\n",
    "from ucimlrepo import fetch_ucirepo\n",
    "iris=fetch_ucirepo(id=53)\n",
    "# from sklearn.datasets import load_iris\n",
    "# iris=load_iris(as_frame=True)"
   ]
  },
  {
   "cell_type": "code",
   "execution_count": 24,
   "id": "51599978-1303-4e2c-9bc1-964ffd56ad9d",
   "metadata": {},
   "outputs": [
    {
     "name": "stdout",
     "output_type": "stream",
     "text": [
      "first five elements of y:  [['Iris-setosa']\n",
      " ['Iris-setosa']\n",
      " ['Iris-setosa']\n",
      " ['Iris-setosa']\n",
      " ['Iris-setosa']]\n",
      "first five elements of x:  [[5.1 3.5 1.4 0.2]\n",
      " [4.9 3.  1.4 0.2]\n",
      " [4.7 3.2 1.3 0.2]\n",
      " [4.6 3.1 1.5 0.2]\n",
      " [5.  3.6 1.4 0.2]]\n"
     ]
    }
   ],
   "source": [
    "x=iris.data.features.values\n",
    "y=iris.data.targets.values\n",
    "print(\"first five elements of y: \",y[:5])\n",
    "print(\"first five elements of x: \",x[:5])"
   ]
  },
  {
   "cell_type": "code",
   "execution_count": 25,
   "id": "77eae2ef-78b1-47d6-b4f0-a6da1a4eaa40",
   "metadata": {},
   "outputs": [
    {
     "data": {
      "text/plain": [
       "array([0, 0, 0, 0, 0, 0, 0, 0, 0, 0, 0, 0, 0, 0, 0, 0, 0, 0, 0, 0, 0, 0,\n",
       "       0, 0, 0, 0, 0, 0, 0, 0, 0, 0, 0, 0, 0, 0, 0, 0, 0, 0, 0, 0, 0, 0,\n",
       "       0, 0, 0, 0, 0, 0, 1, 1, 1, 1, 1, 1, 1, 1, 1, 1, 1, 1, 1, 1, 1, 1,\n",
       "       1, 1, 1, 1, 1, 1, 1, 1, 1, 1, 1, 1, 1, 1, 1, 1, 1, 1, 1, 1, 1, 1,\n",
       "       1, 1, 1, 1, 1, 1, 1, 1, 1, 1, 1, 1, 2, 2, 2, 2, 2, 2, 2, 2, 2, 2,\n",
       "       2, 2, 2, 2, 2, 2, 2, 2, 2, 2, 2, 2, 2, 2, 2, 2, 2, 2, 2, 2, 2, 2,\n",
       "       2, 2, 2, 2, 2, 2, 2, 2, 2, 2, 2, 2, 2, 2, 2, 2, 2, 2])"
      ]
     },
     "execution_count": 25,
     "metadata": {},
     "output_type": "execute_result"
    }
   ],
   "source": [
    "from sklearn.preprocessing import LabelEncoder\n",
    "le=LabelEncoder()\n",
    "y=le.fit_transform(y.ravel()) #ravel converts columns to rows\n",
    "y"
   ]
  },
  {
   "cell_type": "code",
   "execution_count": 26,
   "id": "5f7f95d5-217c-41c5-850c-84b33417c7ea",
   "metadata": {},
   "outputs": [
    {
     "name": "stdout",
     "output_type": "stream",
     "text": [
      "(120, 4) (120,)\n",
      "(30, 4)\n"
     ]
    }
   ],
   "source": [
    "from sklearn.model_selection import train_test_split\n",
    "x_train,x_test,y_train,y_test=train_test_split(x,y,test_size=0.2,random_state=42)\n",
    "m_train,n=x_train.shape\n",
    "m_test, n=x_test.shape\n",
    "print(x_train.shape,y_train.shape)\n",
    "print(x_test.shape)"
   ]
  },
  {
   "cell_type": "code",
   "execution_count": 27,
   "id": "8ef2c32e-3013-4cc1-aaf6-9ea6c08d467a",
   "metadata": {},
   "outputs": [
    {
     "data": {
      "text/plain": [
       "array([0, 0, 0, 0, 0, 0, 0, 0, 0, 0, 0, 0, 0, 0, 0, 0, 0, 0, 0, 0, 0, 0,\n",
       "       0, 0, 0, 0, 0, 0, 0, 0])"
      ]
     },
     "execution_count": 27,
     "metadata": {},
     "output_type": "execute_result"
    }
   ],
   "source": [
    "k=3\n",
    "y_predict=knn_classifier(x_train,y_train,x_test,k=3)\n",
    "y_predict"
   ]
  },
  {
   "cell_type": "code",
   "execution_count": 28,
   "id": "2399f430-443c-4026-b925-22fc9f759ef1",
   "metadata": {},
   "outputs": [
    {
     "name": "stdout",
     "output_type": "stream",
     "text": [
      "33.33333333333333\n",
      "              precision    recall  f1-score   support\n",
      "\n",
      "           0       0.33      1.00      0.50        10\n",
      "           1       0.00      0.00      0.00         9\n",
      "           2       0.00      0.00      0.00        11\n",
      "\n",
      "    accuracy                           0.33        30\n",
      "   macro avg       0.11      0.33      0.17        30\n",
      "weighted avg       0.11      0.33      0.17        30\n",
      "\n",
      "[[10  0  0]\n",
      " [ 9  0  0]\n",
      " [11  0  0]]\n"
     ]
    },
    {
     "name": "stderr",
     "output_type": "stream",
     "text": [
      "C:\\Users\\sahua\\AppData\\Local\\Programs\\Python\\Python312\\Lib\\site-packages\\sklearn\\metrics\\_classification.py:1509: UndefinedMetricWarning: Precision is ill-defined and being set to 0.0 in labels with no predicted samples. Use `zero_division` parameter to control this behavior.\n",
      "  _warn_prf(average, modifier, f\"{metric.capitalize()} is\", len(result))\n",
      "C:\\Users\\sahua\\AppData\\Local\\Programs\\Python\\Python312\\Lib\\site-packages\\sklearn\\metrics\\_classification.py:1509: UndefinedMetricWarning: Precision is ill-defined and being set to 0.0 in labels with no predicted samples. Use `zero_division` parameter to control this behavior.\n",
      "  _warn_prf(average, modifier, f\"{metric.capitalize()} is\", len(result))\n",
      "C:\\Users\\sahua\\AppData\\Local\\Programs\\Python\\Python312\\Lib\\site-packages\\sklearn\\metrics\\_classification.py:1509: UndefinedMetricWarning: Precision is ill-defined and being set to 0.0 in labels with no predicted samples. Use `zero_division` parameter to control this behavior.\n",
      "  _warn_prf(average, modifier, f\"{metric.capitalize()} is\", len(result))\n"
     ]
    }
   ],
   "source": [
    "from sklearn.metrics import accuracy_score,classification_report,confusion_matrix\n",
    "accuracy=accuracy_score(y_test,y_predict)\n",
    "print(accuracy*100)\n",
    "print(classification_report(y_test,y_predict))\n",
    "print(confusion_matrix(y_test,y_predict))"
   ]
  },
  {
   "cell_type": "code",
   "execution_count": 29,
   "id": "052cb322-d9f5-442a-b780-7d98c39e5de1",
   "metadata": {},
   "outputs": [
    {
     "name": "stdout",
     "output_type": "stream",
     "text": [
      "[1 0 2 1 1 0 1 2 1 1 2 0 0 0 0 1 2 1 1 2 0 2 0 2 2 2 2 2 0 0]\n"
     ]
    }
   ],
   "source": [
    "from sklearn.neighbors import KNeighborsClassifier\n",
    "model=KNeighborsClassifier(n_neighbors=3)\n",
    "model.fit(x_train,y_train)\n",
    "y_pred=model.predict(x_test)\n",
    "print(y_pred)"
   ]
  },
  {
   "cell_type": "code",
   "execution_count": 31,
   "id": "ae035523-2d09-46c4-b230-854c80993355",
   "metadata": {},
   "outputs": [
    {
     "data": {
      "text/plain": [
       "Text(0.5, 1.0, 'confusion Matrix')"
      ]
     },
     "execution_count": 31,
     "metadata": {},
     "output_type": "execute_result"
    },
    {
     "data": {
      "image/png": "[encoded data removed]",
      "text/plain": [
       "<Figure size 640x480 with 2 Axes>"
      ]
     },
     "metadata": {},
     "output_type": "display_data"
    }
   ],
   "source": [
    "from sklearn. metrics import f1_score, precision_score, recall_score\n",
    "import matplotlib. pyplot as plt\n",
    "import seaborn as sns\n",
    "cm=confusion_matrix(y_test,y_pred)\n",
    "sns.heatmap(cm,annot=True ,fmt='g',cmap='Blues')\n",
    "plt.ylabel('Actual',fontsize=13)\n",
    "plt.xlabel('Predicted',fontsize=13)\n",
    "plt.title(\"confusion Matrix\",fontsize=17)"
   ]
  }
 ],
 "metadata": {
  "kernelspec": {
   "display_name": "Python 3 (ipykernel)",
   "language": "python",
   "name": "python3"
  },
  "language_info": {
   "codemirror_mode": {
    "name": "ipython",
    "version": 3
   },
   "file_extension": ".py",
   "mimetype": "text/x-python",
   "name": "python",
   "nbconvert_exporter": "python",
   "pygments_lexer": "ipython3",
   "version": "3.12.2"
  }
 },
 "nbformat": 4,
 "nbformat_minor": 5
}
