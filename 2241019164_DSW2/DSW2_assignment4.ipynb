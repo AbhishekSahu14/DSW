{
 "cells": [
  {
   "cell_type": "markdown",
   "id": "1f36393c-7cfb-49a6-8734-fdc6bb394400",
   "metadata": {},
   "source": [
    "#### 1. Write down the prediction function and cost function and the corresponding python code in the context for logistic regression."
   ]
  },
  {
   "cell_type": "code",
   "execution_count": 1,
   "id": "0c95d769-65ab-47d2-ad06-1635e042667d",
   "metadata": {},
   "outputs": [],
   "source": [
    "import numpy as np\n",
    "def sigmoid(z):\n",
    "    return 1 / (1 + np.exp(-z))\n",
    "def predict(theta, X):\n",
    "    return sigmoid(np.dot(X, theta))\n",
    "def cost_function(theta, X, y):\n",
    "    m = len(y)\n",
    "    h = predict(theta, X)\n",
    "    cost = -1/m * np.sum(y * np.log(h) + (1 - y) * np.log(1 - h))\n",
    "    return cost"
   ]
  },
  {
   "cell_type": "markdown",
   "id": "a1016ab4-856a-428c-9c8e-04bbdf3f2928",
   "metadata": {},
   "source": [
    "#### 2. Define types of logistic regression."
   ]
  },
  {
   "cell_type": "markdown",
   "id": "2b1f863e-a562-4270-adeb-b2fd74c08e08",
   "metadata": {},
   "source": [
    "Logistic regression is a statistical model used in machine learning for binary classification problems. It can\n",
    "be categorized into three main types: \n",
    "\n",
    "Binary Logistic Regression: This is the most common form of logistic regression, where the response\n",
    "variable (outcome) can only belong to one of two categories. For example, predicting whether an email is\n",
    "spam or not spam.\n",
    "    \n",
    "Multinomial Logistic Regression: In this type, the response variable can belong to one of three or more\n",
    "categories that do not have a natural ordering. For example, predicting a person’s preference for a\n",
    "presidential candidate when there are more than two candidates. \n",
    "                                                                                             \n",
    "Ordinal Logistic Regression: This type of logistic regression is used when the response variable can\n",
    "belong to one of three or more categories that have a natural ordering. For example, predicting a product’s\n",
    "rating as low, medium, or high."
   ]
  },
  {
   "cell_type": "markdown",
   "id": "5bcfcfb6-4074-4d71-8794-96ba16693aef",
   "metadata": {},
   "source": [
    "#### 3. List the difference between linear regression and logistic regression."
   ]
  },
  {
   "cell_type": "markdown",
   "id": "85930371-3a8c-40a0-ae86-9f850ff979a6",
   "metadata": {},
   "source": [
    "Linear Regression\n",
    "1. Linear Regression is a supervised regression model.\n",
    "2. In Linear Regression, we predict the value by an integer number.\n",
    "3. It is based on the least square estimation.\n",
    "4. Here when we plot the training datasets, a straight line can be drawn that touches maximum plots.\n",
    "5. Linear regression is used to estimate the dependent variable in case of a change in independent\n",
    "variables. For example, predict the price of houses.\n",
    "6. Linear regression assumes the normal or gaussian distribution of the dependent variable.\n",
    "\n",
    "Logistic Regression\n",
    "1. Logistic Regression is a supervised classification model.\n",
    "2. In Logistic Regression, we predict the value by 1 or 0.\n",
    "3. It is based on maximum likelihood estimation.\n",
    "4. Positive slopes result in an S-shaped curve and negative slopes result in a Z-shaped curve.\n",
    "5. Logistic regression is used to calculate the probability of an event. For example, classify if tissue is\n",
    "benign or malignant.\n",
    "6. Logistic regression assumes the binomial distribution of the dependent variable."
   ]
  },
  {
   "cell_type": "markdown",
   "id": "723fcc27-0864-418e-ab8f-508b3b863d69",
   "metadata": {},
   "source": [
    "#### 4. Let you have given the following dataset: \n",
    "#### Where x1, x2 are independent variable and y is dependent variable. In the context of logistic regression, find the optimized parameters after 3rd iteration. Find prediction for [1,1.5] w.r.t. the optimized parameter."
   ]
  },
  {
   "cell_type": "code",
   "execution_count": 3,
   "id": "6307923f-0cfb-43f5-bc3e-0aa993942cf0",
   "metadata": {},
   "outputs": [
    {
     "name": "stdout",
     "output_type": "stream",
     "text": [
      "Optimized parameters:  [-0.00682175  0.06503065  0.07733742]\n",
      "Prediction for [1, 1.5]:  [0.54344393]\n"
     ]
    }
   ],
   "source": [
    "import numpy as np\n",
    "def gradient_descent(X, y, theta, alpha, iterations):\n",
    "    m = len(y)\n",
    "    for _ in range(iterations):\n",
    "        predictions = predict(theta, X)\n",
    "        error = predictions - y\n",
    "        gradient = np.dot(X.T, error)\n",
    "        theta -= alpha * (1/m) * gradient\n",
    "    return theta\n",
    "X = np.array([[0.5, 1], [1, 2], [1.5, 2.5], [2, 3]])\n",
    "y = np.array([0, 0, 1, 1])\n",
    "X = np.hstack((np.ones((X.shape[0], 1)), X))\n",
    "theta = np.zeros(X.shape[1])\n",
    "alpha = 0.1\n",
    "iterations = 3\n",
    "theta = gradient_descent(X, y, theta, alpha, iterations)\n",
    "print(\"Optimized parameters: \", theta)\n",
    "X_new = np.array([1, 1.5]).reshape(1, -1)\n",
    "X_new = np.hstack((np.ones((X_new.shape[0], 1)), X_new))\n",
    "prediction = predict(theta, X_new)\n",
    "print(\"Prediction for [1, 1.5]: \", prediction)"
   ]
  },
  {
   "cell_type": "markdown",
   "id": "ef4d9ebb-8a39-42c3-9f46-f138500a08a3",
   "metadata": {},
   "source": [
    "#### 5. Explain K-Nearest Neighbor (KNN) algorithm."
   ]
  },
  {
   "cell_type": "raw",
   "id": "9eb926cf-51d1-4b0c-99a2-86c34cd9e92e",
   "metadata": {},
   "source": [
    "The K-Nearest Neighbors (KNN) algorithm is a simple and intuitive classification and regression. It doesn’t require any mathematical assumptions or discriminative function but memorizes the training dataset instead.\n",
    "1. Let k be the number of neighbours and D be the set of training samples.\n",
    "2. for each test sample t = (x′, y′) do\n",
    "   A. Compute d, the distance between t and training sample, (x, y) ∈ D.\n",
    "   B. Sort the calculated distances d in ascending order.\n",
    "   C. Get the top k rows from the sorted array.\n",
    "   D. Get the most frequent class corresponding to these rows.\n",
    "   E. Set the class of the test sample to the most frequent class.\n",
    "3. Return the predicted class labels of the test sample."
   ]
  },
  {
   "cell_type": "markdown",
   "id": "04b73028-26fb-4b5a-a248-515d702cf8ab",
   "metadata": {},
   "source": [
    "#### 6. How do you choose the optimal k for KNN model?"
   ]
  },
  {
   "cell_type": "markdown",
   "id": "843423ce-5cd2-4051-bfaa-e1f7b0f662f8",
   "metadata": {},
   "source": [
    "1. Cross-Validation like K-fold cross-validation where the data set is divided into k subsets, and the holdout method is repeated k times. Each time, one of the k subsets is used as the test set and the\n",
    "other k-1 subsets are put together to form a training set. The average error across all k trials is computed. The optimal choice of k is usually the one that minimizes the test error.\n",
    "2. Elbow Method: Run the KNN for a range of k values (say 1 to 20) and plot test error first error will decrease and reach a point (inflection point) and then rise again, option value is that inflection point.\n",
    "3. Sometimes, domain knowledge can also help us like in classification of medical condition only closest observations are revelant hence we choose a small k."
   ]
  },
  {
   "cell_type": "markdown",
   "id": "75bd3a7a-d4fe-497a-96c0-a2eb18f4764a",
   "metadata": {},
   "source": [
    "#### 7. Suppose you have given the following dataset:\n",
    "#### Where x1, x2 are independent variable and y is dependent variable. Predict the class for [1.5,1] for k=2,3 respectively."
   ]
  },
  {
   "cell_type": "markdown",
   "id": "986f2be6-d435-47a9-b6fa-24bcfbf04984",
   "metadata": {},
   "source": [
    "Solving KNN manually:\n",
    "1. Calculate the Euclidean distance between the point [1.5, 1] and all points in the dataset. The Euclidean distance between two points (x1, y1) and (x2, y2) is given by .\n",
    "2. Sort the distances in ascending order and take the first k points.\n",
    "3. Vote for the class: For k=2, take the 2 nearest points and use a majority vote to predict the class. For k=3, take the 3 nearest points and do the same.\n",
    "\n",
    "Sol: \n",
    "For k=2, the two closest points are [1, 1] and [0.5, 1], both of which have class 0. So the prediction for [1.5, 1] is 0.\n",
    "For k=3, the three closest points are [1, 1], [0.5, 1], and [2, 2.5]. The majority class is 0 (from [1, 1] and [0.5, 1]), so the prediction for [1.5, 1] is also 0."
   ]
  },
  {
   "cell_type": "markdown",
   "id": "e17325dc-a1c2-456b-b232-5f1645e28f90",
   "metadata": {},
   "source": [
    "#### 8. If the dataset is imbalance, then can the prediction by KNN be bias? Explain with an example."
   ]
  },
  {
   "cell_type": "markdown",
   "id": "c6c544ea-63cb-4165-9903-1a1b7fc489ec",
   "metadata": {},
   "source": [
    "Yes, if the dataset is imbalanced, the prediction by K-Nearest Neighbors (KNN) can be biased. Imbalanced datasets occur when one class significantly outnumbers the other class(es). In such cases, the majority class tends to dominate the predictions, leading to biased results.  Suppose we have a binary classification problem where we want to predict whether a bank transaction is fraudulent (class 1) or not (class 0). However, the dataset is highly imbalanced, with only 1% of transactions being fraudulent (class 1) and 99% being non-fraudulent (class 0). \n",
    "\n",
    "Example: Now, let's consider a scenario where we have a new transaction that we want to classify using the KNN algorithm. We choose 𝑘 = 5 nearest neighbors for simplicity. \n",
    "\n",
    "In this imbalanced dataset:\n",
    "99% of the neighbors (4 out of 5) may belong to the majority class (non-fraudulent transactions).\n",
    "Only 1% of the neighbors (1 out of 5) may belong to the minority class (fraudulent transactions).\n",
    "So even if the new transaction is actually fraudulent it will be classified as non-fraduluent by KNN."
   ]
  }
 ],
 "metadata": {
  "kernelspec": {
   "display_name": "Python 3 (ipykernel)",
   "language": "python",
   "name": "python3"
  },
  "language_info": {
   "codemirror_mode": {
    "name": "ipython",
    "version": 3
   },
   "file_extension": ".py",
   "mimetype": "text/x-python",
   "name": "python",
   "nbconvert_exporter": "python",
   "pygments_lexer": "ipython3",
   "version": "3.12.2"
  }
 },
 "nbformat": 4,
 "nbformat_minor": 5
}
