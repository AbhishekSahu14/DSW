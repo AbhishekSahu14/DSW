{
 "cells": [
  {
   "cell_type": "markdown",
   "metadata": {},
   "source": [
    "## Assignment_3"
   ]
  },
  {
   "cell_type": "markdown",
   "metadata": {},
   "source": [
    "#### Q1. In a particular jurisdiction, old format of license plates consist of three uppercase letters followed by three digits and new format consist of four digits followed by three uppercase letters. Write a program that begins by reading a string of characters from the user. Then your program should display a message indicating whether the characters are valid for an old style license plate or a new style license plate."
   ]
  },
  {
   "cell_type": "code",
   "execution_count": 11,
   "metadata": {},
   "outputs": [
    {
     "name": "stdout",
     "output_type": "stream",
     "text": [
      "Enter the License plate :1234ABC\n",
      "It's a new format license plate\n"
     ]
    }
   ],
   "source": [
    "x=input(\"Enter the License plate :\")\n",
    "if len(x)==6 and x[0]>='A' and x[0]<='Z' and x[1]>='A' and x[1]<='Z' and x[2]>='A' and x[2]<='Z' and x[3]>='0' and x[3]<='9' and x[4]>='0' and x[4]<='9' and x[5]>='0' and x[5]<='9' :\n",
    "    print(\"It's an old format license plate\")\n",
    "elif len(x)==7 and x[0]>='0' and x[0]<='9' and x[1]>='0' and x[1]<='9' and x[2]>='0' and x[2]<='9' and x[3]>='0' and x[3]<='9' and x[4]>='A' and x[4]<='Z' and x[5]>='A' and x[5]<='Z' and x[6]>='A' and x[6]<='Z' :\n",
    "    print(\"It's a new format license plate\")\n",
    "else:\n",
    "    print(\"Invalid format\")"
   ]
  },
  {
   "cell_type": "markdown",
   "metadata": {},
   "source": [
    "#### Q2. Check whether a string is palindrome or not(without using inbuilt function)"
   ]
  },
  {
   "cell_type": "code",
   "execution_count": 1,
   "metadata": {},
   "outputs": [
    {
     "name": "stdout",
     "output_type": "stream",
     "text": [
      "Enter the statement :abracadabra\n",
      "abracadabra  is not a palindrome string!\n"
     ]
    }
   ],
   "source": [
    "x=str(input(\"Enter the statement :\"))\n",
    "if x==x[::-1]:\n",
    "    print(x,\" is a palindrome string!\")\n",
    "else:\n",
    "    print(x,\" is not a palindrome string!\")"
   ]
  },
  {
   "cell_type": "markdown",
   "metadata": {},
   "source": [
    "#### Q3. Write a program that reads two positive integers from the user and uses Euclid’s algorithm to determine and report their greatest common divisor."
   ]
  },
  {
   "cell_type": "code",
   "execution_count": 2,
   "metadata": {},
   "outputs": [
    {
     "name": "stdout",
     "output_type": "stream",
     "text": [
      "Enter 1st no: 3\n",
      "Enter 2nd no: 15\n",
      "GCD of given two no:  3\n"
     ]
    }
   ],
   "source": [
    "def gcd(a,b):\n",
    "    if(b == 0):\n",
    "        return a\n",
    "    else:\n",
    "        return gcd(b, a % b)\n",
    "x= int(input(\"Enter 1st no: \"))\n",
    "y= int(input(\"Enter 2nd no: \"))\n",
    "print(\"GCD of given two no: \",gcd(x,y))"
   ]
  },
  {
   "cell_type": "markdown",
   "metadata": {},
   "source": [
    "#### Q4. Write a program that reads an integer from the user and displays a message indicating whether or not it is prime."
   ]
  },
  {
   "cell_type": "code",
   "execution_count": 3,
   "metadata": {},
   "outputs": [
    {
     "name": "stdout",
     "output_type": "stream",
     "text": [
      "Enter the no: 14\n",
      "It's not a prime no.\n"
     ]
    }
   ],
   "source": [
    "n=int(input(\"Enter the no: \"))\n",
    "flag=0\n",
    "for i in range (2,n):\n",
    "    if n%i==0:\n",
    "        flag=1\n",
    "        break\n",
    "if flag==0:\n",
    "     print(\"It's a prime no.\")\n",
    "else:\n",
    "     print(\"It's not a prime no.\")"
   ]
  },
  {
   "cell_type": "markdown",
   "metadata": {},
   "source": [
    "#### Q5. Write a function that determines whether or not a password is good. We will define a good password to be a one that is at least 8 characters long and contains at least one uppercase letter, at least one lowercase letter, and at least one number"
   ]
  },
  {
   "cell_type": "code",
   "execution_count": 8,
   "metadata": {},
   "outputs": [
    {
     "name": "stdout",
     "output_type": "stream",
     "text": [
      "Enter your pasword: Abhishek234\n",
      "It's not a good password\n"
     ]
    }
   ],
   "source": [
    "n=str(input(\"Enter your pasword: \"))\n",
    "count=0\n",
    "if (len(n)>=8):\n",
    "    for i in n:\n",
    "        if i in \"ABCDEFGHIJKLMNOPQRSTUVWXYZ\":\n",
    "            count+=1\n",
    "            if i in \"abcdefghijklmnopqrstuvwxyz\":\n",
    "                count+=1\n",
    "        if i in \"0123456789\":\n",
    "            count+=1\n",
    "if (count>=1 and count==len(n)):\n",
    "    print(\"It's a good password\")\n",
    "else:\n",
    "    print(\"It's not a good password\")"
   ]
  },
  {
   "cell_type": "markdown",
   "metadata": {},
   "source": [
    "#### Q6. Write a program to input 10 numbers. Then compute and display the sum of even numbers and product of odd numbers."
   ]
  },
  {
   "cell_type": "code",
   "execution_count": 4,
   "metadata": {},
   "outputs": [
    {
     "name": "stdout",
     "output_type": "stream",
     "text": [
      "Enter the no: \n",
      "1\n",
      "2\n",
      "3\n",
      "4\n",
      "5\n",
      "6\n",
      "7\n",
      "8\n",
      "9\n",
      "10\n",
      "sum of even no:  30\n",
      "Product of odd no:  945\n"
     ]
    }
   ],
   "source": [
    "sum=0\n",
    "prod=1\n",
    "print(\"Enter the no: \")\n",
    "for i in range(10):\n",
    "    n=int(input())\n",
    "    if n%2==0:\n",
    "        sum=sum+n\n",
    "    else:\n",
    "        prod=prod*n\n",
    "print(\"sum of even no: \",sum)\n",
    "print(\"Product of odd no: \",prod)"
   ]
  },
  {
   "cell_type": "markdown",
   "metadata": {},
   "source": [
    "#### Q7. Write a program to compute the factorial of a number."
   ]
  },
  {
   "cell_type": "code",
   "execution_count": 5,
   "metadata": {},
   "outputs": [
    {
     "name": "stdout",
     "output_type": "stream",
     "text": [
      "Enter the no: 5\n",
      "Factorial of 5 is:  120\n"
     ]
    }
   ],
   "source": [
    "a= int(input(\"Enter the no: \"))\n",
    "fact=1\n",
    "for i in range (1,a+1):\n",
    "    fact*=i\n",
    "print(\"Factorial of\",a,\"is: \",fact)"
   ]
  },
  {
   "cell_type": "markdown",
   "metadata": {},
   "source": [
    "#### Q8. Write a Python Program to Count the Number of Occurrence of a Character in String, without using str.count() method."
   ]
  },
  {
   "cell_type": "code",
   "execution_count": 17,
   "metadata": {},
   "outputs": [
    {
     "name": "stdout",
     "output_type": "stream",
     "text": [
      "2\n"
     ]
    }
   ],
   "source": [
    "my_string = \"Programiz\"\n",
    "my_char = \"r\"\n",
    "count=0\n",
    "for i in my_string:\n",
    "    if i == my_char:\n",
    "        count += 1\n",
    "print(count)"
   ]
  },
  {
   "cell_type": "markdown",
   "metadata": {},
   "source": [
    "#### Q9. Write a program to generate prime numbers in a certain range input by the user."
   ]
  },
  {
   "cell_type": "code",
   "execution_count": 9,
   "metadata": {},
   "outputs": [
    {
     "name": "stdout",
     "output_type": "stream",
     "text": [
      "Enter the Lowest Range Value: 100\n",
      "Enter the Upper Range Value: 200\n",
      "The Prime Numbers in the range are: \n",
      "101\n",
      "103\n",
      "107\n",
      "109\n",
      "113\n",
      "127\n",
      "131\n",
      "137\n",
      "139\n",
      "149\n",
      "151\n",
      "157\n",
      "163\n",
      "167\n",
      "173\n",
      "179\n",
      "181\n",
      "191\n",
      "193\n",
      "197\n",
      "199\n"
     ]
    }
   ],
   "source": [
    "l= int(input (\"Enter the Lowest Range Value: \"))  \n",
    "u= int(input (\"Enter the Upper Range Value: \"))  \n",
    "  \n",
    "print(\"The Prime Numbers in the range are: \")  \n",
    "for i in range (l, u + 1):  \n",
    "    if i > 1:  \n",
    "        for j in range (2, i):  \n",
    "            if (i % j) == 0:  \n",
    "                break  \n",
    "        else:  \n",
    "            print (i)  "
   ]
  },
  {
   "cell_type": "markdown",
   "metadata": {},
   "source": [
    "#### Q10. Write a program to reverse the digits of a number.(You should not use any string methods.)"
   ]
  },
  {
   "cell_type": "code",
   "execution_count": 6,
   "metadata": {},
   "outputs": [
    {
     "name": "stdout",
     "output_type": "stream",
     "text": [
      "Enter the no: 2354\n",
      "Reverse of the no is:  4532\n"
     ]
    }
   ],
   "source": [
    "n= int(input(\"Enter the no: \"))\n",
    "x=0\n",
    "while n>0:\n",
    "    x=(x*10)+(n%10)\n",
    "    n=n//10\n",
    "print(\"Reverse of the no is: \",x)"
   ]
  },
  {
   "cell_type": "markdown",
   "metadata": {},
   "source": [
    "#### Q11. Write a program to determine an Armstrong number."
   ]
  },
  {
   "cell_type": "code",
   "execution_count": 7,
   "metadata": {},
   "outputs": [
    {
     "name": "stdout",
     "output_type": "stream",
     "text": [
      "Enter a number: 153\n",
      "153 is an Armstrong number\n"
     ]
    }
   ],
   "source": [
    "n = int(input(\"Enter a number: \"))\n",
    "sum = 0\n",
    "cur = n\n",
    "p=len(str(n))\n",
    "while cur>0:\n",
    "    rem = cur%10\n",
    "    sum += rem**p\n",
    "    cur= cur//10\n",
    "if n==sum:\n",
    "    print(n,\"is an Armstrong number\")\n",
    "else:\n",
    "    print(n,\"is not an Armstrong number\")"
   ]
  },
  {
   "cell_type": "markdown",
   "metadata": {},
   "source": [
    "#### Q12. Write a program that prompts the user for an integer number and then prints all it’s factors."
   ]
  },
  {
   "cell_type": "code",
   "execution_count": 8,
   "metadata": {},
   "outputs": [
    {
     "name": "stdout",
     "output_type": "stream",
     "text": [
      "Enter a number: 10\n",
      "Factors are: \n",
      "1\n",
      "2\n",
      "5\n",
      "10\n"
     ]
    }
   ],
   "source": [
    "n = int(input(\"Enter a number: \"))\n",
    "print(\"Factors are: \")\n",
    "for i in range(1,n+1):\n",
    "    if n%i==0:\n",
    "        print(i)"
   ]
  },
  {
   "cell_type": "markdown",
   "metadata": {},
   "source": [
    "#### Q13. Write a program that prompts a number from the user and generates the Fibonacci sequence up to that number."
   ]
  },
  {
   "cell_type": "code",
   "execution_count": 9,
   "metadata": {},
   "outputs": [
    {
     "name": "stdout",
     "output_type": "stream",
     "text": [
      "Sequence till?: 5\n",
      "5 fibonacci no after 0 & 1 are: \n",
      "1\n",
      "2\n",
      "3\n",
      "5\n",
      "8\n"
     ]
    }
   ],
   "source": [
    "x= int(input(\"Sequence till?: \"))\n",
    "n1=0\n",
    "n2=1\n",
    "sum=0\n",
    "print(x,\"fibonacci no after 0 & 1 are: \")\n",
    "for i in range(1,x+1):\n",
    "    s=n1+n2\n",
    "    n1=n2\n",
    "    n2=s\n",
    "    print(s)"
   ]
  },
  {
   "cell_type": "markdown",
   "metadata": {},
   "source": [
    "#### Q14. Write a python program to find the area of a triangle whose three sides are given."
   ]
  },
  {
   "cell_type": "code",
   "execution_count": 11,
   "metadata": {},
   "outputs": [
    {
     "name": "stdout",
     "output_type": "stream",
     "text": [
      "Enter the base of triangle: 3\n",
      "Enter the height of triangle: 9\n",
      "Area of the field in acre:  13.5\n"
     ]
    }
   ],
   "source": [
    "b=int(input(\"Enter the base of triangle: \"))\n",
    "h=int(input(\"Enter the height of triangle: \"))\n",
    "area=0.5*b*h\n",
    "print(\"Area of the field in acre: \",area)"
   ]
  },
  {
   "cell_type": "markdown",
   "metadata": {},
   "source": [
    "#### Q15. Write a python program to find out the average of a set of integers"
   ]
  },
  {
   "cell_type": "code",
   "execution_count": 10,
   "metadata": {},
   "outputs": [
    {
     "name": "stdout",
     "output_type": "stream",
     "text": [
      "How many numbers: 10\n",
      "Enter number : 2\n",
      "Enter number : 3\n",
      "Enter number : 4\n",
      "Enter number : 5\n",
      "Enter number : 1\n",
      "Enter number : 6\n",
      "Enter number : 8\n",
      "Enter number : 0\n",
      "Enter number : 4\n",
      "Enter number : 3\n",
      "Average of  10  numbers is : 3.6\n"
     ]
    }
   ],
   "source": [
    "num = int(input(\"How many numbers: \"))\n",
    "total_sum = 0\n",
    "for n in range(num):\n",
    "    numbers = float(input(\"Enter number : \"))\n",
    "    total_sum += numbers\n",
    "avg = total_sum / num\n",
    "print(\"Average of \", num, \" numbers is :\", avg)"
   ]
  },
  {
   "cell_type": "markdown",
   "metadata": {},
   "source": [
    "#### Q16. Write a python program to find the sum of the digits of an integer using a while loop."
   ]
  },
  {
   "cell_type": "code",
   "execution_count": 12,
   "metadata": {},
   "outputs": [
    {
     "name": "stdout",
     "output_type": "stream",
     "text": [
      "Enter the no: 3141\n",
      "Sum of the digit of number:  9\n"
     ]
    }
   ],
   "source": [
    "n=int(input(\"Enter the no: \"))\n",
    "sum=0\n",
    "while n>0:\n",
    "    sum+=n%10\n",
    "    n=n//10\n",
    "print(\"Sum of the digit of number: \",sum)"
   ]
  },
  {
   "cell_type": "markdown",
   "metadata": {},
   "source": [
    "#### Q17. Write a python program to display all integers within the range 100-200 whose sum of digits is an even number."
   ]
  },
  {
   "cell_type": "code",
   "execution_count": 12,
   "metadata": {},
   "outputs": [
    {
     "name": "stdout",
     "output_type": "stream",
     "text": [
      "All Integers Within The Range 100-200 Whose Sum Of Digits Is An Even Number is = ['101', '103', '105', '107', '109', '110', '112', '114', '116', '118', '121', '123', '125', '127', '129', '130', '132', '134', '136', '138', '141', '143', '145', '147', '149', '150', '152', '154', '156', '158', '161', '163', '165', '167', '169', '170', '172', '174', '176', '178', '181', '183', '185', '187', '189', '190', '192', '194', '196', '198', '200']\n"
     ]
    }
   ],
   "source": [
    "list=[]                   \n",
    "for i in range(100,201):\n",
    "    i=str(i)\n",
    "    sum=0 \n",
    "    for j in i:   \n",
    "        j=int(j)      \n",
    "        sum=sum+j      \n",
    "    if sum%2==0:       \n",
    "        list.append(i) \n",
    "print('All Integers Within The Range 100-200 Whose Sum Of Digits Is An Even Number is =',list)"
   ]
  },
  {
   "cell_type": "markdown",
   "metadata": {},
   "source": [
    "#### Q18. Write a python program that takes two numbers as input parameters and returns True or False depending on whether they are co-primes. Two numbers are called co-prime if they don’t have any common divisor other than one."
   ]
  },
  {
   "cell_type": "code",
   "execution_count": 13,
   "metadata": {},
   "outputs": [
    {
     "name": "stdout",
     "output_type": "stream",
     "text": [
      "Enter 1st no: 3\n",
      "Enter 2nd no: 5\n",
      "True, given no's are Co-Prime\n"
     ]
    }
   ],
   "source": [
    "def gcd(a,b):\n",
    "    if(b == 0):\n",
    "        return a\n",
    "    else:\n",
    "        return gcd(b, a % b)\n",
    "x= int(input(\"Enter 1st no: \"))\n",
    "y= int(input(\"Enter 2nd no: \"))\n",
    "if gcd(x,y)==1: \n",
    "    print(\"True, given no's are Co-Prime\") \n",
    "else:\n",
    "    print(\"False, given no's are Not Co-Prime\")"
   ]
  },
  {
   "cell_type": "markdown",
   "metadata": {},
   "source": [
    "#### Q19. (FizzBuzz Game in Python)Assume you are given the number ’n,’ and asked to display the string representations of all the numbers from 1 to n. However, there are some restrictions, such as:\n",
    "#### – If the number can be divided by 3, it will output Fizz instead of the number.\n",
    "#### – If the number is divisible by 5, the result will display Buzz instead of the number.\n",
    "#### – If the given number is divisible by both 3 and 5, Fizz Buzz will be printed instead of the number.\n",
    "#### – If the number cannot be divided by 3 or 5, it will be printed as a string."
   ]
  },
  {
   "cell_type": "code",
   "execution_count": 14,
   "metadata": {},
   "outputs": [
    {
     "name": "stdout",
     "output_type": "stream",
     "text": [
      "Enter a no: 10\n",
      "1\n",
      "2\n",
      "Fizz\n",
      "4\n",
      "Buzz\n",
      "Fizz\n",
      "7\n",
      "8\n",
      "Fizz\n",
      "Buzz\n"
     ]
    }
   ],
   "source": [
    "n=int(input(\"Enter a no: \"))\n",
    "for i in range(1,n+1):\n",
    "    if i % 3 == 0 and i % 5 == 0:\n",
    "        print(\"FizzBuzz\")\n",
    "    elif i % 3 == 0:\n",
    "        print(\"Fizz\")\n",
    "    elif i % 5 == 0:\n",
    "        print(\"Buzz\")\n",
    "    else:\n",
    "        print(str(i))"
   ]
  }
 ],
 "metadata": {
  "kernelspec": {
   "display_name": "Python 3",
   "language": "python",
   "name": "python3"
  },
  "language_info": {
   "codemirror_mode": {
    "name": "ipython",
    "version": 3
   },
   "file_extension": ".py",
   "mimetype": "text/x-python",
   "name": "python",
   "nbconvert_exporter": "python",
   "pygments_lexer": "ipython3",
   "version": "3.7.3"
  }
 },
 "nbformat": 4,
 "nbformat_minor": 2
}
