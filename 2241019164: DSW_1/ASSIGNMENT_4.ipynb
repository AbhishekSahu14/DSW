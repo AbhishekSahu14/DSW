{
 "cells": [
  {
   "cell_type": "markdown",
   "metadata": {},
   "source": [
    "### Name: Abhishek Sahu\n",
    "### Regs. no: 2241019164\n",
    "### Section: 07\n",
    "### Branch: CSE\n",
    "### Sub: Data Science Workshop-1"
   ]
  },
  {
   "cell_type": "markdown",
   "metadata": {},
   "source": [
    "#### Q1. What is a List Object in Python? Write the syntax, how we create a List object? For the following create List object of each scenario and display the output."
   ]
  },
  {
   "cell_type": "markdown",
   "metadata": {},
   "source": [
    "#### (a) List of vowels. (b) List of consonants."
   ]
  },
  {
   "cell_type": "code",
   "execution_count": 3,
   "metadata": {},
   "outputs": [
    {
     "name": "stdout",
     "output_type": "stream",
     "text": [
      "Enter a char: d\n",
      "It's a consonant\n"
     ]
    }
   ],
   "source": [
    "n=input(\"Enter a char: \")\n",
    "l=['a','e','i','o','u']\n",
    "if n in l:\n",
    "    print(\"It's a vowel\")\n",
    "else:\n",
    "    print(\"It's a consonant\")"
   ]
  },
  {
   "cell_type": "markdown",
   "metadata": {},
   "source": [
    "#### (c) List of even integers within 1 to 20."
   ]
  },
  {
   "cell_type": "code",
   "execution_count": 6,
   "metadata": {},
   "outputs": [
    {
     "name": "stdout",
     "output_type": "stream",
     "text": [
      "[2, 4, 6, 8, 10, 12, 14, 16, 18]\n"
     ]
    }
   ],
   "source": [
    "l=[]\n",
    "for i in range(1,20):\n",
    "    if i%2==0:\n",
    "        l.append(i)\n",
    "print(l)"
   ]
  },
  {
   "cell_type": "markdown",
   "metadata": {},
   "source": [
    "#### (d) List of odd integers within 1 to 20."
   ]
  },
  {
   "cell_type": "code",
   "execution_count": 7,
   "metadata": {},
   "outputs": [
    {
     "name": "stdout",
     "output_type": "stream",
     "text": [
      "[1, 3, 5, 7, 9, 11, 13, 15, 17, 19]\n"
     ]
    }
   ],
   "source": [
    "l=[]\n",
    "for i in range(1,20):\n",
    "    if i%2!=0:\n",
    "        l.append(i)\n",
    "print(l)"
   ]
  },
  {
   "cell_type": "markdown",
   "metadata": {},
   "source": [
    "#### (e) List of all subjects in this semester."
   ]
  },
  {
   "cell_type": "code",
   "execution_count": 10,
   "metadata": {},
   "outputs": [
    {
     "name": "stdout",
     "output_type": "stream",
     "text": [
      "Enter no. of subs: 5\n",
      "ytccy\n",
      "ytd\n",
      "yxc\n",
      "ftu\n",
      "gc\n",
      "['ytccy', 'ytd', 'yxc', 'ftu', 'gc']\n"
     ]
    }
   ],
   "source": [
    "n=int(input(\"Enter no. of subs: \"))\n",
    "l=[]\n",
    "print(\"All sub in this sem are: \")\n",
    "for i in range(n):\n",
    "    i=input()\n",
    "    l.append(i)\n",
    "print(l)"
   ]
  },
  {
   "cell_type": "markdown",
   "metadata": {},
   "source": [
    "#### (f) List of all subject codes in this semester."
   ]
  },
  {
   "cell_type": "code",
   "execution_count": 11,
   "metadata": {},
   "outputs": [
    {
     "name": "stdout",
     "output_type": "stream",
     "text": [
      "Enter no. of subs: 5\n",
      "All sub codes in this sem are: \n",
      "342\n",
      "244\n",
      "424\n",
      "2352\n",
      "2421\n",
      "['342', '244', '424', '2352', '2421']\n"
     ]
    }
   ],
   "source": [
    "a=int(input(\"Enter no. of subs: \"))\n",
    "l=[]\n",
    "print(\"All sub codes in this sem are: \")\n",
    "for i in range(n):\n",
    "    i=input()\n",
    "    l.append(i)\n",
    "print(l)"
   ]
  },
  {
   "cell_type": "markdown",
   "metadata": {},
   "source": [
    "#### (g) List of temperatures from last 10 days."
   ]
  },
  {
   "cell_type": "code",
   "execution_count": 12,
   "metadata": {},
   "outputs": [
    {
     "name": "stdout",
     "output_type": "stream",
     "text": [
      "Temperatures from last 10 days: \n",
      "23\n",
      "1\n",
      "2\n",
      "\n",
      "3\n",
      "3\n",
      "3\n",
      "33#\n",
      "3\n",
      "3\n",
      "['23', '1', '2', '', '3', '3', '3', '33#', '3', '3']\n"
     ]
    }
   ],
   "source": [
    "l=[]\n",
    "print(\"Temperatures from last 10 days: \")\n",
    "for i in range(10):\n",
    "    i=input()\n",
    "    l.append(i)\n",
    "print(l)"
   ]
  },
  {
   "cell_type": "markdown",
   "metadata": {},
   "source": [
    "#### Q2. Predict the output of following instructions when typed in Jupyter Notebook Cell and note down every output in your assignment copy."
   ]
  },
  {
   "cell_type": "code",
   "execution_count": 7,
   "metadata": {},
   "outputs": [
    {
     "name": "stdout",
     "output_type": "stream",
     "text": [
      "range(0, 15)\n",
      "[0, 1, 2, 3, 4, 5, 6, 7, 8, 9, 10, 11, 12, 13, 14]\n"
     ]
    }
   ],
   "source": [
    "#(a)\n",
    "listobj=range(15)\n",
    "print(listobj)\n",
    "print(list(listobj))"
   ]
  },
  {
   "cell_type": "code",
   "execution_count": 5,
   "metadata": {},
   "outputs": [
    {
     "name": "stdout",
     "output_type": "stream",
     "text": [
      "<class 'list'>\n",
      "Bob\n",
      "100.55\n",
      "55\n",
      "Will\n",
      "Will\n",
      "['Will', 55, 'Will']\n",
      "[55, 'Will', 'XXXXX']\n",
      "['Bob', 'Joe', 'Will', 55, 'Will']\n",
      "['Will', 55, 'Will', 'XXXXX', 100.55]\n",
      "['Bob', 'Joe', 'Will', 55, 'Will', 'XXXXX', 100.55]\n",
      "['Bob', 'Will', 'Will']\n",
      "['Bob', 'Will', 'Will', 100.55]\n",
      "[100.55, 'XXXXX', 'Will', 55, 'Will', 'Joe', 'Bob']\n",
      "['Joe', 55]\n"
     ]
    }
   ],
   "source": [
    "#(b)\n",
    "somelist=['Bob','Joe','Will',55,'Will','XXXXX',100.55]\n",
    "print(type(somelist))\n",
    "print(somelist[0])\n",
    "print(somelist[-1])\n",
    "print(somelist[3])\n",
    "print(somelist[-3])\n",
    "print(somelist[2])\n",
    "print(somelist[2:5])\n",
    "print(somelist[-4:-1])\n",
    "print(somelist[:5])\n",
    "print(somelist[2:])\n",
    "print(somelist[:])\n",
    "print(somelist[0:6:2])\n",
    "print(somelist[::2])\n",
    "print(somelist[::-1])\n",
    "print(somelist[1:5:2])"
   ]
  },
  {
   "cell_type": "code",
   "execution_count": 8,
   "metadata": {},
   "outputs": [
    {
     "name": "stdout",
     "output_type": "stream",
     "text": [
      "[2, 3, 'SampleText', None]\n",
      "SampleText\n",
      "SampleText\n",
      "[2, 3, 'SampleText', None]\n"
     ]
    }
   ],
   "source": [
    "#(c)\n",
    "list1=[2,3,7,None]\n",
    "list2=['Foo','Bar','Baz']\n",
    "list2=list1\n",
    "list2[2]=\"SampleText\"\n",
    "print(list1)\n",
    "print(list1[2])\n",
    "print(list2[2])\n",
    "print(list2)"
   ]
  },
  {
   "cell_type": "code",
   "execution_count": 15,
   "metadata": {},
   "outputs": [
    {
     "name": "stdout",
     "output_type": "stream",
     "text": [
      "['Foo', 'Bar', 'peekaboo']\n",
      "['Foo', 'Bar', 'peekaboo', 'dwarf']\n",
      "['Foo', 'red', 'Bar', 'peekaboo', 'dwarf']\n",
      "['Foo', 'red', 'peekaboo', 'dwarf']\n",
      "['Foo', 'red', 'peekaboo', 'dwarf', 'foo']\n",
      "['Foo', 'red', 'peekaboo', 'dwarf']\n",
      "True\n",
      "False\n"
     ]
    }
   ],
   "source": [
    "#(d)\n",
    "wordlist=['Foo','Bar','Baz']\n",
    "wordlist[2]='peekaboo'\n",
    "print(wordlist)\n",
    "wordlist.append(\"dwarf\")\n",
    "print(wordlist)\n",
    "wordlist.insert(1,\"red\")\n",
    "print(wordlist)\n",
    "wordlist.pop(2)\n",
    "print(wordlist)\n",
    "wordlist.append(\"foo\")\n",
    "print(wordlist)\n",
    "wordlist.remove(\"foo\")\n",
    "print(wordlist)\n",
    "print(\"dwarf\" in wordlist)\n",
    "print(\"dwarf\" not in wordlist)"
   ]
  },
  {
   "cell_type": "code",
   "execution_count": 17,
   "metadata": {},
   "outputs": [
    {
     "name": "stdout",
     "output_type": "stream",
     "text": [
      "[4, None, 'foo', 7, 8, 2, 3]\n",
      "['A', ('B', 'C'), 4, None, 'foo', 7, 8, 2, 3]\n",
      "[4, None, 'foo', 7, 8, 2, 3]\n",
      "[7, 2, 5, 1, 3, 73, 51, 7, 3, 9, 11, 1, 1, 10, 9]\n",
      "[1, 1, 1, 2, 3, 3, 5, 7, 7, 9, 9, 10, 11, 51, 73]\n",
      "['he', 'saw', 'six', 'small', 'foxes']\n",
      "['foxes', 'he', 'saw', 'six', 'small']\n"
     ]
    }
   ],
   "source": [
    "#(e)\n",
    "[4,None,'foo']+[7,8,2,3]\n",
    "list1=[4,None,'foo']+[7,8,2,3]\n",
    "print(list1)\n",
    "x=['A',('B','C')]\n",
    "x.extend(list1)\n",
    "print(x)\n",
    "print(list1)\n",
    "a=[7,2,5,1,3,73,51,7,3,9,11,1,1,10,9]\n",
    "print(a)\n",
    "a.sort()\n",
    "print(a)\n",
    "b=['saw','small','he','foxes','six']\n",
    "b.sort(key=len)\n",
    "print(b)\n",
    "b.sort()\n",
    "print(b)"
   ]
  },
  {
   "cell_type": "markdown",
   "metadata": {},
   "source": [
    "#### Q3. Develop Python Programs for the following below scenario.\n",
    "#### (a) Write a Python Program which will prompt user to ask a range of integer(lower limit and higher limit) value. Once you receive the input values from the user programmatically store odd numbers and even numbers into separate list objects and display them as output."
   ]
  },
  {
   "cell_type": "code",
   "execution_count": 19,
   "metadata": {},
   "outputs": [
    {
     "name": "stdout",
     "output_type": "stream",
     "text": [
      "Enter the Lowest Range Value: 1\n",
      "Enter the Upper Range Value: 100\n",
      "List of even no are:  [2, 4, 6, 8, 10, 12, 14, 16, 18, 20, 22, 24, 26, 28, 30, 32, 34, 36, 38, 40, 42, 44, 46, 48, 50, 52, 54, 56, 58, 60, 62, 64, 66, 68, 70, 72, 74, 76, 78, 80, 82, 84, 86, 88, 90, 92, 94, 96, 98, 100]\n",
      "List of odd no are:  [1, 3, 5, 7, 9, 11, 13, 15, 17, 19, 21, 23, 25, 27, 29, 31, 33, 35, 37, 39, 41, 43, 45, 47, 49, 51, 53, 55, 57, 59, 61, 63, 65, 67, 69, 71, 73, 75, 77, 79, 81, 83, 85, 87, 89, 91, 93, 95, 97, 99]\n"
     ]
    }
   ],
   "source": [
    "l= int(input (\"Enter the Lowest Range Value: \"))  \n",
    "u= int(input (\"Enter the Upper Range Value: \"))\n",
    "list1=[]\n",
    "list2=[]\n",
    "for i in range (l, u + 1):\n",
    "    if i%2==0:\n",
    "        list1.append(i)\n",
    "    else:\n",
    "        list2.append(i)\n",
    "print(\"List of even no are: \",list1)\n",
    "print(\"List of odd no are: \",list2)"
   ]
  },
  {
   "cell_type": "markdown",
   "metadata": {},
   "source": [
    "#### (b) Write a Python Program which will prompt user to enter a positive integer value. Once you receive the input, find factors of the integer and store into a list objects and display them as output."
   ]
  },
  {
   "cell_type": "code",
   "execution_count": 20,
   "metadata": {},
   "outputs": [
    {
     "name": "stdout",
     "output_type": "stream",
     "text": [
      "Enter a number: 10\n",
      "Factors are:  [1, 2, 5, 10]\n"
     ]
    }
   ],
   "source": [
    "n = int(input(\"Enter a number: \"))\n",
    "l=[]\n",
    "for i in range(1,n+1):\n",
    "    if n%i==0:\n",
    "        l.append(i)\n",
    "print(\"Factors are: \",l)"
   ]
  },
  {
   "cell_type": "markdown",
   "metadata": {},
   "source": [
    "#### (c) Write a Python Program which will prompt user to enter a range of integer(lower limit and higher limit) value, list down all prime numbers and composite numbers into separate list objects and display them."
   ]
  },
  {
   "cell_type": "code",
   "execution_count": 24,
   "metadata": {},
   "outputs": [
    {
     "name": "stdout",
     "output_type": "stream",
     "text": [
      "Enter the Lowest Range Value: 100\n",
      "Enter the Upper Range Value: 200\n",
      "Prime Numbers in the range are:  [101, 103, 107, 109, 113, 127, 131, 137, 139, 149, 151, 157, 163, 167, 173, 179, 181, 191, 193, 197, 199]\n",
      "Composite Numbers in the range are:  [100, 102, 104, 105, 106, 108, 110, 111, 112, 114, 115, 116, 117, 118, 119, 120, 121, 122, 123, 124, 125, 126, 128, 129, 130, 132, 133, 134, 135, 136, 138, 140, 141, 142, 143, 144, 145, 146, 147, 148, 150, 152, 153, 154, 155, 156, 158, 159, 160, 161, 162, 164, 165, 166, 168, 169, 170, 171, 172, 174, 175, 176, 177, 178, 180, 182, 183, 184, 185, 186, 187, 188, 189, 190, 192, 194, 195, 196, 198, 200]\n"
     ]
    }
   ],
   "source": [
    "l= int(input (\"Enter the Lowest Range Value: \"))  \n",
    "u= int(input (\"Enter the Upper Range Value: \"))  \n",
    "list1=[]\n",
    "list2=[]\n",
    "for i in range (l, u + 1):  \n",
    "    if i > 1:  \n",
    "        for j in range (2, i):  \n",
    "            if (i % j) == 0:\n",
    "                list2.append(i)\n",
    "                break\n",
    "        else: \n",
    "            list1.append(i)\n",
    "print(\"Prime Numbers in the range are: \",list1)  \n",
    "print(\"Composite Numbers in the range are: \",list2)  "
   ]
  },
  {
   "cell_type": "markdown",
   "metadata": {},
   "source": [
    "#### Q4. What is a Tuple Object in Python? Write the syntax, how we create a Tuple object? For the following scenario create Tuple object of each scenario and display them as output."
   ]
  },
  {
   "cell_type": "markdown",
   "metadata": {},
   "source": [
    "Tuple is one of  4-built in data types in python used to store collection of data. It is a collection which is ordered and unchangable. Thiese are written inside round brackets.\n",
    "SYNTAX :\n",
    "    var_name= (AT1, at2, at3...)\n",
    "    We can also declare a tuple by using typle keyword."
   ]
  },
  {
   "cell_type": "markdown",
   "metadata": {},
   "source": [
    "#### (a) Tuple of few student’s information such as roll number, name, branch, specialization, mobile, email id etc."
   ]
  },
  {
   "cell_type": "code",
   "execution_count": 3,
   "metadata": {},
   "outputs": [
    {
     "name": "stdout",
     "output_type": "stream",
     "text": [
      "(2241019164, 'Abhishek sahu', 'CSE', 7, 'Data science')\n"
     ]
    }
   ],
   "source": [
    "std_info=(2241019164,'Abhishek sahu','CSE', 7, 'Data science')\n",
    "print(std_info)"
   ]
  },
  {
   "cell_type": "markdown",
   "metadata": {},
   "source": [
    "#### (b) Tuple of few book’s information such as ISBN Number, book title, category, author, number of authors etc."
   ]
  },
  {
   "cell_type": "code",
   "execution_count": 4,
   "metadata": {},
   "outputs": [
    {
     "name": "stdout",
     "output_type": "stream",
     "text": [
      "('Falut in my stars', 'Author-Unknown', 5350)\n"
     ]
    }
   ],
   "source": [
    "book_info=(\"Falut in my stars\",\"Author-Unknown\",5350)\n",
    "print(book_info)"
   ]
  },
  {
   "cell_type": "markdown",
   "metadata": {},
   "source": [
    "#### (c) Tuple of few parts of a vehicle."
   ]
  },
  {
   "cell_type": "code",
   "execution_count": 5,
   "metadata": {},
   "outputs": [
    {
     "name": "stdout",
     "output_type": "stream",
     "text": [
      "('Engine', 'seat', 'clutch')\n"
     ]
    }
   ],
   "source": [
    "parts=('Engine','seat','clutch')\n",
    "print(parts)"
   ]
  },
  {
   "cell_type": "markdown",
   "metadata": {},
   "source": [
    "#### (d) Tuple of few institution details such as name of the institute, departments, no. of students, address etc."
   ]
  },
  {
   "cell_type": "code",
   "execution_count": 6,
   "metadata": {},
   "outputs": [
    {
     "name": "stdout",
     "output_type": "stream",
     "text": [
      "('ITER', 'CSE', 4000, 'Khandagiri')\n"
     ]
    }
   ],
   "source": [
    "insti=('ITER','CSE',4000,\"Khandagiri\")\n",
    "print(insti)"
   ]
  },
  {
   "cell_type": "markdown",
   "metadata": {},
   "source": [
    "#### (e) Create tuple objects from List objects at all scenario in Question No. 1."
   ]
  },
  {
   "cell_type": "code",
   "execution_count": 5,
   "metadata": {},
   "outputs": [
    {
     "name": "stdout",
     "output_type": "stream",
     "text": [
      "(4, 5, 6, 'Ram', 'Hari', 120.5643)\n",
      "<class 'tuple'>\n",
      "(2, 5, 1, 9, 5, 3, 8)\n",
      "<class 'tuple'>\n",
      "('s', 't', 'r', 'i', 'n', 'g')\n"
     ]
    }
   ],
   "source": [
    "tupleObj = (4, 5, 6, 'Ram', 'Hari', 120.5643)\n",
    "print(tupleObj)\n",
    "print(type(tupleObj))\n",
    "tuple((2, 5, 1, 9, 5, 3, 8))\n",
    "tuple((4, 5, 6))\n",
    "x = tuple([2, 5, 1, 9, 5, 3, 8])\n",
    "print(x)\n",
    "y = x\n",
    "print(type(y))\n",
    "tupleObj = tuple(\"string\")\n",
    "print(tupleObj)"
   ]
  },
  {
   "cell_type": "markdown",
   "metadata": {},
   "source": [
    "#### Q5. Predict the output of following instructions when typed in Jupyter Notebook Cell and note down every output in your assignment copy."
   ]
  },
  {
   "cell_type": "code",
   "execution_count": 8,
   "metadata": {},
   "outputs": [
    {
     "name": "stdout",
     "output_type": "stream",
     "text": [
      "<class 'tuple'>\n",
      "Bob\n",
      "100.55\n",
      "55\n",
      "Will\n",
      "Will\n",
      "('Will', 55, 'Will')\n",
      "(55, 'Will', 'XXXXX')\n",
      "('Bob', 'Joe', 'Will', 55, 'Will')\n",
      "('Will', 55, 'Will', 'XXXXX', 100.55)\n",
      "('Bob', 'Joe', 'Will', 55, 'Will', 'XXXXX', 100.55)\n",
      "('Bob', 'Will', 'Will')\n",
      "('Bob', 'Will', 'Will', 100.55)\n",
      "(100.55, 'XXXXX', 'Will', 55, 'Will', 'Joe', 'Bob')\n",
      "('Joe', 55)\n"
     ]
    }
   ],
   "source": [
    "#(a)\n",
    "someList = ['Bob', 'Joe', 'Will', 55, 'Will', 'XXXXX', 100.55]\n",
    "someTuple = tuple(someList)\n",
    "print(type(someTuple))\n",
    "print(someTuple[0])\n",
    "print(someTuple[-1])\n",
    "print(someTuple[3])\n",
    "print(someTuple[-3])\n",
    "print(someTuple[2])\n",
    "print(someTuple[2:5])\n",
    "print(someTuple[-4:-1])\n",
    "print(someTuple[:5])\n",
    "print(someTuple[2:])\n",
    "print(someTuple[:])\n",
    "print(someTuple[0:6:2])\n",
    "print(someTuple[::2])\n",
    "print(someTuple[::-1])\n",
    "print(someTuple[1:5:2])"
   ]
  },
  {
   "cell_type": "code",
   "execution_count": 12,
   "metadata": {},
   "outputs": [
    {
     "name": "stdout",
     "output_type": "stream",
     "text": [
      "((4, 5, 6), (7, 8))\n",
      "('foo', [1, 2, 3], True)\n"
     ]
    }
   ],
   "source": [
    "#(b)\n",
    "nestedTuple = (4, 5, 6), (7, 8)\n",
    "print(nestedTuple)\n",
    "nestedTuple[1]\n",
    "tup = tuple(['foo', [1, 2], True])\n",
    "tup[2] = False #Assignment doesn't work in tuple\n",
    "tup[1].append(3)\n",
    "print(tup)"
   ]
  },
  {
   "cell_type": "code",
   "execution_count": 9,
   "metadata": {},
   "outputs": [
    {
     "name": "stdout",
     "output_type": "stream",
     "text": [
      "5\n",
      "7\n",
      "2\n",
      "1\n",
      "a=a, b=b, c=c\n",
      "a=a, b=b, c=c\n",
      "a=a, b=b, c=c\n",
      "1\n",
      "2\n",
      "[3, 4, 5]\n"
     ]
    }
   ],
   "source": [
    "#(c)\n",
    "tup = (4, 5, 6)\n",
    "a, b, c = tup\n",
    "print(b)\n",
    "tup = 4, 5, (6, 7)\n",
    "a, b, (c, d) = tup\n",
    "print(d)\n",
    "a, b = 1, 2\n",
    "a, b = b, a\n",
    "print(a)\n",
    "print(b)\n",
    "seq = [(1, 2, 3), (4, 5, 6), (7, 8, 9)]\n",
    "for a, b, c in seq:\n",
    "    print(f'a=a, b=b, c=c')          \n",
    "values = 1, 2, 3, 4, 5\n",
    "a, b, *rest = values\n",
    "print(a)\n",
    "print(b)\n",
    "print(rest)"
   ]
  },
  {
   "cell_type": "code",
   "execution_count": 19,
   "metadata": {},
   "outputs": [
    {
     "name": "stdout",
     "output_type": "stream",
     "text": [
      "(4, None, 'foo', 6, 0, 'bar')\n",
      "('foo', 'bar', 'foo', 'bar', 'foo', 'bar', 'foo', 'bar')\n",
      "7\n",
      "14\n"
     ]
    }
   ],
   "source": [
    "#(d)\n",
    "(4, None, 'foo') + (6, 0) + ('bar',)\n",
    "tuple1 = (4, None, 'foo') + (6, 0) + ('bar',)\n",
    "print(tuple1)\n",
    "print(('foo', 'bar') * 4)\n",
    "a = (1, 7, 2, 7, 2, 2, 7, 3, 7, 4, 7, 7, 2, 7)\n",
    "print(a.count(7))\n",
    "print(len(a))"
   ]
  },
  {
   "cell_type": "markdown",
   "metadata": {},
   "source": [
    "#### Q6. Develop Python Programs for the following below scenario.\n",
    "#### (a) Write a Python Program which will prompt user to ask enter his/her name, department, mobile number, roll number etc. Once you receive the input values from the user programmatically store these values into tuple objects and finally display them as output. Try to enter details for at least 5 objects."
   ]
  },
  {
   "cell_type": "code",
   "execution_count": 10,
   "metadata": {},
   "outputs": [
    {
     "name": "stdout",
     "output_type": "stream",
     "text": [
      "Enter your name: Abhishek sahu\n",
      "Enter your Department: CSE\n",
      "Enter your number: 8598957333\n",
      "Enter your roll: 19164\n",
      "Enter your branch: B.tech\n",
      "('Abhishek sahu', 'CSE', 8598957333, 19164, 'B.tech')\n"
     ]
    }
   ],
   "source": [
    "name=input('Enter your name: ')\n",
    "department=input('Enter your Department: ')\n",
    "mobile=int(input('Enter your number: '))\n",
    "roll=int(input('Enter your roll: '))\n",
    "branch=input('Enter your branch: ')\n",
    "info=(name,department,mobile,roll,branch)\n",
    "print(info)"
   ]
  },
  {
   "cell_type": "markdown",
   "metadata": {},
   "source": [
    "#### (b) For all of the questions provided in Question No. 3, try to store all those values into Tuple objects display them."
   ]
  },
  {
   "cell_type": "code",
   "execution_count": 13,
   "metadata": {},
   "outputs": [
    {
     "name": "stdout",
     "output_type": "stream",
     "text": [
      "Enter the Lowest Range Value: 1\n",
      "Enter the Upper Range Value: 10\n",
      "Tuple of even no are:  (2, 4, 6, 8, 10)\n",
      "Tuple of odd no are:  (1, 3, 5, 7, 9)\n"
     ]
    }
   ],
   "source": [
    "#(1)\n",
    "l= int(input (\"Enter the Lowest Range Value: \"))  \n",
    "u= int(input (\"Enter the Upper Range Value: \"))\n",
    "list1=[]\n",
    "list2=[]\n",
    "for i in range (l, u + 1):\n",
    "    if i%2==0:\n",
    "        list1.append(i)\n",
    "    else:\n",
    "        list2.append(i)\n",
    "even=tuple(list1)\n",
    "odd=tuple(list2)\n",
    "print(\"Tuple of even no are: \",even)\n",
    "print(\"Tuple of odd no are: \",odd)"
   ]
  },
  {
   "cell_type": "code",
   "execution_count": 14,
   "metadata": {},
   "outputs": [
    {
     "name": "stdout",
     "output_type": "stream",
     "text": [
      "Enter a number: 5\n",
      "Factors are:  (1, 5)\n"
     ]
    }
   ],
   "source": [
    "#(2)\n",
    "n = int(input(\"Enter a number: \"))\n",
    "l=[]\n",
    "for i in range(1,n+1):\n",
    "    if n%i==0:\n",
    "        l.append(i)\n",
    "fact=tuple(l)\n",
    "print(\"Factors are: \",fact)"
   ]
  },
  {
   "cell_type": "code",
   "execution_count": 16,
   "metadata": {},
   "outputs": [
    {
     "name": "stdout",
     "output_type": "stream",
     "text": [
      "Enter the Lowest Range Value: 100\n",
      "Enter the Upper Range Value: 200\n",
      "Prime Numbers in the range are:  (101, 103, 107, 109, 113, 127, 131, 137, 139, 149, 151, 157, 163, 167, 173, 179, 181, 191, 193, 197, 199)\n",
      "Composite Numbers in the range are:  (100, 102, 104, 105, 106, 108, 110, 111, 112, 114, 115, 116, 117, 118, 119, 120, 121, 122, 123, 124, 125, 126, 128, 129, 130, 132, 133, 134, 135, 136, 138, 140, 141, 142, 143, 144, 145, 146, 147, 148, 150, 152, 153, 154, 155, 156, 158, 159, 160, 161, 162, 164, 165, 166, 168, 169, 170, 171, 172, 174, 175, 176, 177, 178, 180, 182, 183, 184, 185, 186, 187, 188, 189, 190, 192, 194, 195, 196, 198, 200)\n"
     ]
    }
   ],
   "source": [
    "#(3)\n",
    "l= int(input (\"Enter the Lowest Range Value: \"))  \n",
    "u= int(input (\"Enter the Upper Range Value: \"))  \n",
    "list1=[]\n",
    "list2=[]\n",
    "for i in range (l, u + 1):  \n",
    "    if i > 1:  \n",
    "        for j in range (2, i):  \n",
    "            if (i % j) == 0:\n",
    "                list2.append(i)\n",
    "                break\n",
    "        else: \n",
    "            list1.append(i)\n",
    "prime=tuple(list1)\n",
    "comp=tuple(list2)\n",
    "print(\"Prime Numbers in the range are: \",prime)  \n",
    "print(\"Composite Numbers in the range are: \",comp)  "
   ]
  },
  {
   "cell_type": "markdown",
   "metadata": {},
   "source": [
    "#### Q7. What is a Dictionary Object in Python? Write the syntax, how we create a Dictionary object? For the following questions create Dictionary object of each scenario and display them as output.\n",
    "#### (a) Dictionary of few peoples as key and their mobile numbers as values(at least for 10 key)."
   ]
  },
  {
   "cell_type": "code",
   "execution_count": 7,
   "metadata": {},
   "outputs": [
    {
     "name": "stdout",
     "output_type": "stream",
     "text": [
      "Enter the name: abhishek\n",
      "Enter the phone no: 5674\n",
      "Enter the name: ajay\n",
      "Enter the phone no: 3636\n",
      "Enter the name: rohan\n",
      "Enter the phone no: 436737\n",
      "{'abhishek': 5674, 'ajay': 3636, 'rohan': 436737}\n"
     ]
    }
   ],
   "source": [
    "d1={}\n",
    "for i in range(3):\n",
    "    name=input(\"Enter the name: \")\n",
    "    phn=int(input(\"Enter the phone no: \"))\n",
    "    d1[name]=phn\n",
    "print(d1)"
   ]
  },
  {
   "cell_type": "markdown",
   "metadata": {},
   "source": [
    "#### (b) Dictionary of few books as key and their authors(authors should be a list object) as values."
   ]
  },
  {
   "cell_type": "code",
   "execution_count": 10,
   "metadata": {},
   "outputs": [
    {
     "name": "stdout",
     "output_type": "stream",
     "text": [
      "Enter the book name: dust\n",
      "Enter the author: jin\n",
      "Enter the book name: curse\n",
      "Enter the author: me\n",
      "Enter the book name: SWIM\n",
      "Enter the author: none\n",
      "{'jin': 'dust', 'me': 'curse', 'none': 'SWIM'}\n"
     ]
    }
   ],
   "source": [
    "d2={}\n",
    "for i in range(3):\n",
    "    book=input(\"Enter the book name: \")\n",
    "    author=input(\"Enter the author: \")\n",
    "    d2[author]=book\n",
    "print(d2)"
   ]
  },
  {
   "cell_type": "markdown",
   "metadata": {},
   "source": [
    "#### (c) Dictionary of different types numbers(such as prime, composite, even, odd etc.) as keys and their examples as values."
   ]
  },
  {
   "cell_type": "code",
   "execution_count": null,
   "metadata": {},
   "outputs": [],
   "source": []
  },
  {
   "cell_type": "markdown",
   "metadata": {},
   "source": [
    "#### (d) Dictionary of engineering branches as keys and their specializations as values."
   ]
  },
  {
   "cell_type": "code",
   "execution_count": 11,
   "metadata": {},
   "outputs": [
    {
     "name": "stdout",
     "output_type": "stream",
     "text": [
      "Enter your branch: cse\n",
      "Enter the specialisation: data science\n",
      "Enter your branch: csit\n",
      "Enter the specialisation: nothing\n",
      "{'cse': 'data science', 'csit': 'nothing'}\n"
     ]
    }
   ],
   "source": [
    "d4={}\n",
    "for i in range(2):\n",
    "    branch=input(\"Enter your branch: \")\n",
    "    spcl=input(\"Enter the specialisation: \")\n",
    "    d4[branch]=spcl\n",
    "print(d4)"
   ]
  },
  {
   "cell_type": "markdown",
   "metadata": {},
   "source": [
    "#### (e) Dictionary of employee ids as keys and their details(as tuple) as values."
   ]
  },
  {
   "cell_type": "code",
   "execution_count": 13,
   "metadata": {},
   "outputs": [
    {
     "name": "stdout",
     "output_type": "stream",
     "text": [
      "Enter your name: abhishek\n",
      "Enter your number: 346633\n",
      "Enter your name: subham\n",
      "Enter your number: 354647\n",
      "{11: ('abhishek', '346633'), 8: ('subham', '354647')}\n"
     ]
    }
   ],
   "source": [
    "d5={}\n",
    "import random as r\n",
    "for i in range(2):\n",
    "    l=[]\n",
    "    id=r.randint(1,11)\n",
    "    name=input(\"Enter your name: \")\n",
    "    l.append(name)\n",
    "    phn=input(\"Enter your number: \")\n",
    "    l.append(phn)\n",
    "    d5[id]=tuple(l)\n",
    "print(d5)"
   ]
  },
  {
   "cell_type": "markdown",
   "metadata": {},
   "source": [
    "#### (f) Dictionary of subject code as key and subject details(as list) such as course name, reference book, teacher name, department etc. as values."
   ]
  },
  {
   "cell_type": "code",
   "execution_count": 17,
   "metadata": {},
   "outputs": [
    {
     "name": "stdout",
     "output_type": "stream",
     "text": [
      "Enter your subject: dsw\n",
      "Enter the reference book: python\n",
      "Enter your subject: ad\n",
      "Enter the reference book: learnwithme\n",
      "{108: ('dsw', 'python'), 106: ('ad', 'learnwithme')}\n"
     ]
    }
   ],
   "source": [
    "d6={}\n",
    "import random as r\n",
    "for i in range(2):\n",
    "    l=[]\n",
    "    sub_code=r.randint(1,11)+100\n",
    "    sub=input(\"Enter your subject: \")\n",
    "    l.append(sub)\n",
    "    ref_book=input(\"Enter the reference book: \")\n",
    "    l.append(ref_book)\n",
    "    d6[sub_code]=tuple(l)\n",
    "print(d6)"
   ]
  },
  {
   "cell_type": "markdown",
   "metadata": {},
   "source": [
    "#### Q8. Predict the output of following instructions when typed in Jupyter Notebook Cell and note down every output in your assignment copy."
   ]
  },
  {
   "cell_type": "code",
   "execution_count": 28,
   "metadata": {},
   "outputs": [
    {
     "name": "stdout",
     "output_type": "stream",
     "text": [
      "{'fruits': ['banana', 'apple', 'guava', 'jackfruit'], 'colors': ('red', 'blue', 'green'), 'int': 165, 'float': 99.56, 'string': 'some sample text'}\n",
      "<class 'dict'>\n",
      "{'fruits': ['banana', 'apple', 'guava', 'jackfruit'], 'colors': ('red', 'blue', 'green'), 'int': 165, 'float': 99.56, 'string': 'some sample text', 10: 'New added value'}\n",
      "New added value\n",
      "165\n",
      "('red', 'blue', 'green')\n",
      "New added value\n"
     ]
    }
   ],
   "source": [
    "#(a)\n",
    "dictObj = {'fruits': ['banana', 'apple', 'guava', 'jackfruit'], 'colors': ('red', 'blue', 'green'),\n",
    "'int': 165, 'float': 99.56, 'string':'some sample text'}\n",
    "print(dictObj)\n",
    "print(type(dictObj))\n",
    "#(dict('key':'value')\n",
    "dictObj[10] = 'New added value'\n",
    "print(dictObj)\n",
    "print(dictObj[10])\n",
    "print(dictObj['int'])\n",
    "print(dictObj['colors'])\n",
    "#print(dictObj['10']) -- error\n",
    "print(dictObj[10])"
   ]
  },
  {
   "cell_type": "code",
   "execution_count": 38,
   "metadata": {},
   "outputs": [
    {
     "name": "stdout",
     "output_type": "stream",
     "text": [
      "True\n",
      "False\n",
      "False\n",
      "False\n",
      "{'Bob': 10, 'Joe': 34, 'Limba': 55, 'XXXXX': 100}\n"
     ]
    }
   ],
   "source": [
    "#(b)\n",
    "dictObj2 = {'Bob':10, 'Joe':34, 'Will':77, 'Limba':55, 'Will':36, 'XXXXX':100}\n",
    "print('Limba' in dictObj2)\n",
    "print(55 in dictObj2)\n",
    "print('55' in dictObj2)\n",
    "print('XXXXXX' in dictObj2)\n",
    "dictObj2['Will'] = ' '.join(['I', 'am', 'ancient', '10', 'years old'])\n",
    "dictObj2['Will']\n",
    "#dictObj2.pop() --error\n",
    "dictObj2.pop('Will')\n",
    "print(dictObj2)"
   ]
  },
  {
   "cell_type": "code",
   "execution_count": 43,
   "metadata": {},
   "outputs": [
    {
     "name": "stdout",
     "output_type": "stream",
     "text": [
      "{'fruits': ['banana', 'apple', 'guava', 'jackfruit'], 'colors': ('red', 'blue', 'green'), 'int': 165, 'float': 99.56, 'string': 'some sample text', 10: 'New added value', 'iter': 'INSTITUTE OF TECHNICAL EDUCATION & RESEARCH'}\n",
      "{'fruits': ['banana', 'apple', 'guava', 'jackfruit'], 'colors': ('red', 'blue', 'green'), 'int': 165, 'float': 99.56, 'string': 'some sample text', 10: 'New added value', 'iter': 'INSTITUTE OF TECHNICAL EDUCATION & RESEARCH'}\n"
     ]
    }
   ],
   "source": [
    "#(c)\n",
    "list(dictObj.keys())\n",
    "list(dictObj.values())\n",
    "list(dictObj.items())\n",
    "dictObj['iter'] = 'INSTITUTE OF TECHNICAL EDUCATION & RESEARCH'\n",
    "list(dictObj.keys())\n",
    "list(dictObj.values())\n",
    "list(dictObj.items())\n",
    "print(dictObj)\n",
    "#dictObj.update('b':'foo','c':12) --error\n",
    "print(dictObj)"
   ]
  },
  {
   "cell_type": "code",
   "execution_count": 1,
   "metadata": {},
   "outputs": [
    {
     "name": "stdout",
     "output_type": "stream",
     "text": [
      "{0: 'A', 1: 'B', 2: 'C', 3: 'D', 4: 'E', 5: 'F', 6: 'G', 7: 'G', 8: 'I', 9: 'J'}\n"
     ]
    }
   ],
   "source": [
    "#(d)\n",
    "myDict = {}\n",
    "keyList = range(10)\n",
    "valueList = ['A', 'B', 'C', 'D', 'E', 'F', 'G', 'G', 'I', 'J']\n",
    "for key, value in zip(keyList, valueList):\n",
    "    myDict[key] = value\n",
    "print(myDict)"
   ]
  },
  {
   "cell_type": "code",
   "execution_count": 2,
   "metadata": {},
   "outputs": [
    {
     "name": "stdout",
     "output_type": "stream",
     "text": [
      "defaultdict(<class 'list'>, {'d': ['duck', 'dog', 'dance'], 'a': ['apple', 'atom'], 'b': ['bat', 'bar', 'book'], 'c': ['cat', 'cup']})\n"
     ]
    }
   ],
   "source": [
    "#(e)\n",
    "from collections import defaultdict\n",
    "words = ['duck', 'apple', 'dog', 'bat', 'cat', 'cup', 'bar', 'atom', 'book', 'dance']\n",
    "myDict = defaultdict(list)\n",
    "for w in words:\n",
    "    myDict[w[0]].append(w)\n",
    "print(myDict)"
   ]
  },
  {
   "cell_type": "markdown",
   "metadata": {},
   "source": [
    "#### Q9. Develop Python Programs for the following below scenario.\n",
    "#### (a) Write a Python Program which will prompt user to ask enter his/her name, profession, mobile number, employment organization, email id etc. Once you receive the input values from the user programmatically store these values into Dictionary objects such as mobile number is the key and other details as tuple object. Try to enter details for at least 7 objects."
   ]
  },
  {
   "cell_type": "code",
   "execution_count": 2,
   "metadata": {},
   "outputs": [
    {
     "name": "stdout",
     "output_type": "stream",
     "text": [
      "Enter your name: bhghb\n",
      "Enter your profession: dgszg\n",
      "Enter your mobile no: 536\n",
      "Enter your Employment organisation: bfb\n",
      "Enter your Emil id: dhd\n",
      "Enter your name: ngdng\n",
      "Enter your profession: dgbdbg\n",
      "Enter your mobile no: 67\n",
      "Enter your Employment organisation: hv\n",
      "Enter your Emil id: blbl\n",
      "User details dict:  {'536': ('bhghb', 'dgszg', 'bfb', 'dhd'), '67': ('ngdng', 'dgbdbg', 'hv', 'blbl')}\n"
     ]
    }
   ],
   "source": [
    "userD={}\n",
    "for i in range(2):\n",
    "    name=input(\"Enter your name: \")\n",
    "    profe=input(\"Enter your profession: \")\n",
    "    mobileN=input(\"Enter your mobile no: \")\n",
    "    org=input(\"Enter your Employment organisation: \")\n",
    "    email=input(\"Enter your Emil id: \")\n",
    "    userD[mobileN]=(name,profe,org,email)\n",
    "print(\"User details dict: \",userD) "
   ]
  },
  {
   "cell_type": "markdown",
   "metadata": {},
   "source": [
    "#### (b) Develop a Python program which will take lower limit +ve integer and higher limit +ve integer values from the user as user input(lower limit should be lesser than the higher limit). Following that calculate factors of those elements within the range and store them as key value pairs(dictionary object) such as the number is the key and factors are as values of a list object and display them."
   ]
  },
  {
   "cell_type": "code",
   "execution_count": 1,
   "metadata": {},
   "outputs": [
    {
     "name": "stdout",
     "output_type": "stream",
     "text": [
      "Enter the Lower Value: 2\n",
      "Enter the Upper Value: 6\n",
      "{2: [1, 2]}\n"
     ]
    }
   ],
   "source": [
    "l= int(input (\"Enter the Lower Value: \"))  \n",
    "u= int(input (\"Enter the Upper Value: \"))\n",
    "def fact(n):\n",
    "    ftr=[]\n",
    "    for i in range(1,n+1):\n",
    "        if n%i==0:\n",
    "            ftr.append(i)\n",
    "    return ftr\n",
    "d={} \n",
    "for i in range(l,u+1):\n",
    "    d.update({l:fact(l)})\n",
    "print(d)"
   ]
  },
  {
   "cell_type": "markdown",
   "metadata": {},
   "source": [
    "#### (c) Modify the Question No. (a) to develop a Python program which will consider name as the key and rest values into tuple as the value. Without using any predefined sort() method use your own logic to sort them based on name and finally display them as output."
   ]
  },
  {
   "cell_type": "code",
   "execution_count": 21,
   "metadata": {},
   "outputs": [
    {
     "name": "stdout",
     "output_type": "stream",
     "text": [
      "Enter your name: cytc\n",
      "Enter your profession: shsh\n",
      "Enter your mobile no: 36\n",
      "Enter your Employment organisation: dgh\n",
      "Enter your Emil id: gg\n",
      "Enter your name: fjfj\n",
      "Enter your profession: dhdjh\n",
      "Enter your mobile no: 637\n",
      "Enter your Employment organisation: dgh\n",
      "Enter your Emil id: hrh\n",
      "User details dict:  {'cytc': ('36', 'shsh', 'dgh', 'gg'), 'fjfj': ('637', 'dhdjh', 'dgh', 'hrh')}\n"
     ]
    }
   ],
   "source": [
    "userD={}\n",
    "for i in range(2):\n",
    "    name=input(\"Enter your name: \")\n",
    "    profe=input(\"Enter your profession: \")\n",
    "    mobileN=input(\"Enter your mobile no: \")\n",
    "    org=input(\"Enter your Employment organisation: \")\n",
    "    email=input(\"Enter your Emil id: \")\n",
    "    userD[name]=(mobileN,profe,org,email)\n",
    "print(\"User details dict: \",userD)"
   ]
  },
  {
   "cell_type": "markdown",
   "metadata": {},
   "source": [
    "#### 10. What is a Set Object in Python? Write different syntax, how we create a Set object? For the following questions create Set object of each scenario and display them as output.\n",
    "#### (a) Set of all cricket players currently working in Indian Cricket Team."
   ]
  },
  {
   "cell_type": "code",
   "execution_count": 22,
   "metadata": {},
   "outputs": [
    {
     "name": "stdout",
     "output_type": "stream",
     "text": [
      "Enter all active cricketers playing now: \n",
      "bd\n",
      "dh\n",
      "gdszg\n",
      "sgs\n",
      "sg\n",
      "sg\n",
      "dsg\n",
      "dgsdg\n",
      "gsg\n",
      "yry\n",
      "eyy\n",
      "{'sgs', 'dsg', 'yry', 'eyy', 'dgsdg', 'dh', 'gsg', 'bd', 'sg', 'gdszg'}\n"
     ]
    }
   ],
   "source": [
    "s=[]\n",
    "print(\"Set of all active cricketers playing now: \")\n",
    "for i in range(11):\n",
    "    n=input()\n",
    "    s.append(n)\n",
    "print(set(s))"
   ]
  },
  {
   "cell_type": "markdown",
   "metadata": {},
   "source": [
    "#### (b) Set of all 3rd semester courses."
   ]
  },
  {
   "cell_type": "code",
   "execution_count": 25,
   "metadata": {},
   "outputs": [
    {
     "name": "stdout",
     "output_type": "stream",
     "text": [
      "Enter all 3rd subjects: \n",
      "enge\n",
      "gsg\n",
      "gdg\n",
      "gdg\n",
      "gd\n",
      "{'gdg', 'gd', 'gsg', 'enge'}\n"
     ]
    }
   ],
   "source": [
    "s=[]\n",
    "print(\"Set of all 3rd sem subjects: \")\n",
    "for i in range(5):\n",
    "    n=input()\n",
    "    s.append(n)\n",
    "print(set(s))"
   ]
  },
  {
   "cell_type": "markdown",
   "metadata": {},
   "source": [
    "#### (c) Set of all books you are following for this semester."
   ]
  },
  {
   "cell_type": "code",
   "execution_count": 26,
   "metadata": {},
   "outputs": [
    {
     "name": "stdout",
     "output_type": "stream",
     "text": [
      "Set of all books: \n",
      "af\n",
      "ry\n",
      "mvm\n",
      "wr\n",
      "gjfj\n",
      "{'af', 'gjfj', 'ry', 'wr', 'mvm'}\n"
     ]
    }
   ],
   "source": [
    "s=[]\n",
    "print(\"Set of all books: \")\n",
    "for i in range(5):\n",
    "    n=input()\n",
    "    s.append(n)\n",
    "print(set(s))"
   ]
  },
  {
   "cell_type": "markdown",
   "metadata": {},
   "source": [
    "#### (d) Set of 10 integer objects(both -ve and +ve) which are divisible by 11."
   ]
  },
  {
   "cell_type": "code",
   "execution_count": 29,
   "metadata": {},
   "outputs": [
    {
     "name": "stdout",
     "output_type": "stream",
     "text": [
      "Set of all no divisble by 11: \n",
      "11\n",
      "23\n",
      "34\n",
      "22\n",
      "33\n",
      "56\n",
      "33\n",
      "44\n",
      "{33, 11, 44, 22}\n"
     ]
    }
   ],
   "source": [
    "s=[]\n",
    "print(\"Set of all no divisble by 11: \")\n",
    "while len(s)<=11:\n",
    "    n=int(input())\n",
    "    if n%11==0:\n",
    "        s.append(n)\n",
    "print(set(s))"
   ]
  },
  {
   "cell_type": "markdown",
   "metadata": {},
   "source": [
    "#### (e) Set of words containing more than 3 vowels."
   ]
  },
  {
   "cell_type": "code",
   "execution_count": 2,
   "metadata": {},
   "outputs": [
    {
     "name": "stdout",
     "output_type": "stream",
     "text": [
      "Enter the words containing more than 3 vowels\n",
      "Enter the word: adi\n",
      "Enter the word: abha\n",
      "Enter the word: abhishek\n",
      "Enter the word: kaju\n",
      "Enter the word: pritam\n",
      "{'kaju', 'abhishek', 'pritam', 'adi', 'abha'}\n"
     ]
    }
   ],
   "source": [
    "print(\"Enter the words containing more than 3 vowels\")\n",
    "s=set()\n",
    "for i in range(1,6):\n",
    "    word=input(\"Enter the word: \")\n",
    "    s.add(word)\n",
    "print(s)"
   ]
  },
  {
   "cell_type": "markdown",
   "metadata": {},
   "source": [
    "#### 11. Predict the output of following instructions when typed in Jupyter Notebook Cell and note down every output in your assignment copy."
   ]
  },
  {
   "cell_type": "code",
   "execution_count": 5,
   "metadata": {},
   "outputs": [
    {
     "name": "stdout",
     "output_type": "stream",
     "text": [
      "{1, 2, 3, 4, 5, '5', 7, '1', '2'}\n",
      "{'9', 1, 3, 6, '5', 7, 9, 10, '6', '1', '2'}\n",
      "{1, 2, 3, 4, 5, '5', 7, '55', '1', '2'}\n",
      "{'9', 1, 3, 6, '5', 7, 9, 10, '6', '1', '2'}\n",
      "True\n",
      "False\n"
     ]
    }
   ],
   "source": [
    "A = {5, 3, 1, 4, 4, 2, 3, 4, 5, '5', 2, '2', 7, '1'}\n",
    "print(A)\n",
    "B = {'6', 3, 1, 3, '5', '2', 7, '1', 6, '9', 10, 9, '6'}\n",
    "print(B)\n",
    "type(A)\n",
    "type(B)\n",
    "A.add('55')\n",
    "print(A)\n",
    "D=B\n",
    "print(D)\n",
    "print(D == B)\n",
    "print(D == A)"
   ]
  },
  {
   "cell_type": "code",
   "execution_count": 10,
   "metadata": {},
   "outputs": [
    {
     "name": "stdout",
     "output_type": "stream",
     "text": [
      "{1, 2, 3, 4, 5, 6, '5', 7, 9, 10, '55', '1', '2', '9', '6'}\n",
      "{1, 2, 3, 4, 5, 6, '5', 7, 9, 10, '55', '1', '2', '9', '6'}\n",
      "{'9', 1, 3, 6, '5', 7, 9, 10, '6', '1', '2'}\n",
      "{'9', 1, 3, 6, '5', 7, 9, 10, '6', '1', '2'}\n",
      "{'9', 1, 3, 6, '5', 7, 9, 10, '6', '1', '2'}\n",
      "{1, 3, 6, '5', 7, 9, 10, '1', '2', '9', '6'}\n"
     ]
    }
   ],
   "source": [
    "C = A\n",
    "C.union(D)\n",
    "print(C)\n",
    "C.intersection(D)\n",
    "print(C)\n",
    "print(D)\n",
    "C.intersection_update(D)\n",
    "print(C)\n",
    "print(D)\n",
    "C.update(D)\n",
    "print(C)"
   ]
  },
  {
   "cell_type": "code",
   "execution_count": 11,
   "metadata": {},
   "outputs": [
    {
     "name": "stdout",
     "output_type": "stream",
     "text": [
      "{1, 3, 6, '5', 7, 9, 10, '1', '2', '9', '6', 54}\n",
      "{1, 3, 6, '5', 7, 9, 10, 'Sample Text', '1', '2', '9', '6', 54}\n",
      "{'9', 1, 3, 6, '5', 7, 9, 10, '6', '1', '2'}\n",
      "{1, 3, 6, '5', 7, 9, 10, 'Sample Text', '1', '2', '9', '6', 54}\n",
      "{'9', 1, 3, 6, '5', 7, 9, 10, '6', '1', '2'}\n",
      "{'Sample Text', 54}\n",
      "{'9', 1, 3, 6, '5', 7, 9, 10, '6', '1', '2'}\n"
     ]
    }
   ],
   "source": [
    "C.add(54)\n",
    "print(C)\n",
    "C.add('Sample Text')\n",
    "print(C)\n",
    "print(D)\n",
    "C.difference(D)\n",
    "print(C)\n",
    "print(D)\n",
    "C.difference_update(D)\n",
    "print(C)\n",
    "print(D)"
   ]
  },
  {
   "cell_type": "code",
   "execution_count": 14,
   "metadata": {},
   "outputs": [
    {
     "name": "stdout",
     "output_type": "stream",
     "text": [
      "{'Sample Text', 54}\n",
      "{1, 3, 7, '5', 6, 9, 10, 'Sample Text', '1', '2', '9', '6', 54}\n",
      "{1, 3, 7, '5', 6, 9, 10, 'Sample Text', '1', '2', '9', '6', 54}\n",
      "{'9', 1, 3, 6, '5', 7, 9, 10, '6', '1', '2'}\n"
     ]
    }
   ],
   "source": [
    "C.symmetric_difference(D)\n",
    "print(C)\n",
    "C.symmetric_difference_update(D)\n",
    "print(C)\n",
    "A.issubset(B)\n",
    "A.issuperset(B)\n",
    "A.isdisjoint(B)\n",
    "print(A)\n",
    "print(B)"
   ]
  },
  {
   "cell_type": "code",
   "execution_count": 10,
   "metadata": {},
   "outputs": [
    {
     "name": "stdout",
     "output_type": "stream",
     "text": [
      "{1, 2, 3, 4, 5, 6, 8, 9}\n"
     ]
    },
    {
     "ename": "AttributeError",
     "evalue": "'list' object has no attribute 'add'",
     "output_type": "error",
     "traceback": [
      "\u001b[0;31m---------------------------------------------------------------------------\u001b[0m",
      "\u001b[0;31mAttributeError\u001b[0m                            Traceback (most recent call last)",
      "\u001b[0;32m<ipython-input-10-ca986c532044>\u001b[0m in \u001b[0;36m<module>\u001b[0;34m\u001b[0m\n\u001b[1;32m      1\u001b[0m \u001b[0mX\u001b[0m \u001b[0;34m=\u001b[0m \u001b[0;34m{\u001b[0m\u001b[0;36m1\u001b[0m\u001b[0;34m,\u001b[0m \u001b[0;36m2\u001b[0m\u001b[0;34m,\u001b[0m \u001b[0;36m3\u001b[0m\u001b[0;34m,\u001b[0m \u001b[0;36m4\u001b[0m\u001b[0;34m,\u001b[0m \u001b[0;36m2\u001b[0m\u001b[0;34m,\u001b[0m \u001b[0;36m3\u001b[0m\u001b[0;34m,\u001b[0m \u001b[0;36m5\u001b[0m\u001b[0;34m,\u001b[0m \u001b[0;36m6\u001b[0m\u001b[0;34m,\u001b[0m \u001b[0;36m1\u001b[0m\u001b[0;34m,\u001b[0m \u001b[0;36m2\u001b[0m\u001b[0;34m,\u001b[0m \u001b[0;36m9\u001b[0m\u001b[0;34m,\u001b[0m \u001b[0;36m8\u001b[0m\u001b[0;34m}\u001b[0m\u001b[0;34m\u001b[0m\u001b[0;34m\u001b[0m\u001b[0m\n\u001b[1;32m      2\u001b[0m \u001b[0mprint\u001b[0m\u001b[0;34m(\u001b[0m\u001b[0mX\u001b[0m\u001b[0;34m)\u001b[0m\u001b[0;34m\u001b[0m\u001b[0;34m\u001b[0m\u001b[0m\n\u001b[0;32m----> 3\u001b[0;31m \u001b[0mY\u001b[0m\u001b[0;34m.\u001b[0m\u001b[0madd\u001b[0m\u001b[0;34m(\u001b[0m\u001b[0;36m7\u001b[0m\u001b[0;34m)\u001b[0m\u001b[0;34m\u001b[0m\u001b[0;34m\u001b[0m\u001b[0m\n\u001b[0m\u001b[1;32m      4\u001b[0m \u001b[0mY\u001b[0m\u001b[0;34m.\u001b[0m\u001b[0madd\u001b[0m\u001b[0;34m(\u001b[0m\u001b[0;36m100.65\u001b[0m\u001b[0;34m)\u001b[0m\u001b[0;34m\u001b[0m\u001b[0;34m\u001b[0m\u001b[0m\n\u001b[1;32m      5\u001b[0m \u001b[0mY\u001b[0m\u001b[0;34m.\u001b[0m\u001b[0madd\u001b[0m\u001b[0;34m(\u001b[0m\u001b[0;34m'ITER'\u001b[0m\u001b[0;34m)\u001b[0m\u001b[0;34m\u001b[0m\u001b[0;34m\u001b[0m\u001b[0m\n",
      "\u001b[0;31mAttributeError\u001b[0m: 'list' object has no attribute 'add'"
     ]
    }
   ],
   "source": [
    "X = {1, 2, 3, 4, 2, 3, 5, 6, 1, 2, 9, 8}\n",
    "print(X)\n",
    "Y.add(7)\n",
    "Y.add(100.65)\n",
    "Y.add('ITER')\n",
    "Y.add(76.89)\n",
    "print(Y)\n",
    "print(Y|X)\n",
    "Y&X\n",
    "Y-X\n",
    "Y^X\n",
    "print(Y)\n",
    "print(X)\n",
    "Y|=X\n",
    "Y&=X\n",
    "print(Y)\n",
    "print(X)"
   ]
  },
  {
   "cell_type": "markdown",
   "metadata": {},
   "source": [
    "#### 12. Develop Python Programs for the following below scenario.\n",
    "#### (a) Write a Python Program which will prompt user to enter 10 different sample inputs like integer/float/string/boolean/list/tuple/set/dictionary objects etc. and store them into a Set object. Find out all unique characters present in that set object."
   ]
  },
  {
   "cell_type": "code",
   "execution_count": 11,
   "metadata": {},
   "outputs": [
    {
     "name": "stdout",
     "output_type": "stream",
     "text": [
      "Enter sample of different integer/float/string/boolean/list/tuple/set/dictionary.... etc: \n",
      "10\n",
      "10.0\n",
      "\"abhi\"\n",
      "true\n",
      "[1,2,3]\n",
      "(1,2,3)\n",
      "{1,2,3}\n",
      "{1:'abhi',2:'kaju',3:'pritam'\n",
      "1\n",
      "34.5\n",
      "{'\"abhi\"', '[1,2,3]', '(1,2,3)', '10', '10.0', '1', \"{1:'abhi',2:'kaju',3:'pritam'\", '{1,2,3}', 'true', '34.5'}\n"
     ]
    }
   ],
   "source": [
    "print(\"Enter sample of different integer/float/string/boolean/list/tuple/set/dictionary.... etc: \")\n",
    "l=[]\n",
    "for i in range(10):\n",
    "    n=input()\n",
    "    l.append(n)\n",
    "print(set(l))"
   ]
  },
  {
   "cell_type": "markdown",
   "metadata": {},
   "source": [
    "#### (b) Develop a Python program which will prompt user to enter 15 positive numbers randomly(repetition allowed) and divide all those unique numbers into two different list objects such that one list con- tains prime numbers and another list contains composite numbers. Finally, display the output."
   ]
  },
  {
   "cell_type": "code",
   "execution_count": 3,
   "metadata": {},
   "outputs": [
    {
     "name": "stdout",
     "output_type": "stream",
     "text": [
      "1\n",
      "2\n",
      "3\n",
      "4\n",
      "5\n",
      "6\n",
      "7\n",
      "8\n",
      "9\n",
      "10\n",
      "11\n",
      "12\n",
      "13\n",
      "14\n",
      "15\n",
      "Prime Numbers are:  [2, 3, 5, 7, 11, 13]\n",
      "Composite Numbers are:  [4, 6, 8, 9, 10, 12, 14, 15]\n"
     ]
    }
   ],
   "source": [
    "l1=[]\n",
    "l2=[]\n",
    "for i in range (15):\n",
    "    n=int(input())\n",
    "    if n > 1:  \n",
    "        for j in range (2, int((n/2)+1)):  \n",
    "            if (n % j) == 0:\n",
    "                l2.append(n)\n",
    "                break\n",
    "        else: \n",
    "            l1.append(n)\n",
    "print(\"Prime Numbers are: \",l1)  \n",
    "print(\"Composite Numbers are: \",l2)  "
   ]
  },
  {
   "cell_type": "markdown",
   "metadata": {},
   "source": [
    "#### (c) Develop a Python script which will prompt the user to enter 10 student details such as roll number, name, Physics Mark, Chemistry Mark, Mathematics mark as tuple objects and display them. Finally update those student details with adding fields such as total mark, average mark, status(pass if average mark is > 60) by adding student details as list of tuples and display the output."
   ]
  },
  {
   "cell_type": "code",
   "execution_count": 5,
   "metadata": {},
   "outputs": [
    {
     "name": "stdout",
     "output_type": "stream",
     "text": [
      "Enter no of students: 1\n",
      "Enter roll no: 9164\n",
      "Enter your name: Abhishek\n",
      "Enter your physics mark: 91\n",
      "Enter your chemistry mark: 79\n",
      "Enter your math mark: 85\n",
      "[9164, 'Abhishek', 91, 79, 85, (4, 6, 8, 9, 10, 12, 14, 15)]\n"
     ]
    }
   ],
   "source": [
    "n=int(input(\"Enter no of students: \"))\n",
    "l1=[]\n",
    "for i in range(n):\n",
    "    l=[]\n",
    "    roll=int(input(\"Enter roll no: \"))\n",
    "    l.append(roll)\n",
    "    name=(input(\"Enter your name: \"))\n",
    "    l.append(name)\n",
    "    phy=int(input(\"Enter your physics mark: \"))\n",
    "    l.append(phy)\n",
    "    chem=int(input(\"Enter your chemistry mark: \"))\n",
    "    l.append(chem)\n",
    "    math=int(input(\"Enter your math mark: \"))\n",
    "    l.append(math)\n",
    "    l1=l\n",
    "    l1.append(tuple(l2))\n",
    "print(l1)"
   ]
  }
 ],
 "metadata": {
  "kernelspec": {
   "display_name": "Python 3",
   "language": "python",
   "name": "python3"
  },
  "language_info": {
   "codemirror_mode": {
    "name": "ipython",
    "version": 3
   },
   "file_extension": ".py",
   "mimetype": "text/x-python",
   "name": "python",
   "nbconvert_exporter": "python",
   "pygments_lexer": "ipython3",
   "version": "3.7.3"
  }
 },
 "nbformat": 4,
 "nbformat_minor": 2
}
