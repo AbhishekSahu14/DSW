{
 "cells": [
  {
   "cell_type": "markdown",
   "metadata": {},
   "source": [
    "### Name: Abhishek Sahu\n",
    "### Regs. no: 2241019164\n",
    "### Section: 07\n",
    "### Branch: CSE\n",
    "### Sub: Data Science Workshop-1"
   ]
  },
  {
   "cell_type": "markdown",
   "metadata": {},
   "source": [
    "#### Q1. Find the index of the 5 th repetition of number 1 in x= np.array ([1, 2, 1, 1, 3, 4, 3, 1, 1, 2, 1, 1, 2])."
   ]
  },
  {
   "cell_type": "code",
   "execution_count": 1,
   "metadata": {},
   "outputs": [
    {
     "name": "stdout",
     "output_type": "stream",
     "text": [
      "8\n"
     ]
    }
   ],
   "source": [
    "import numpy as np\n",
    "x=np.array([1, 2, 1, 1, 3, 4, 3, 1, 1, 2, 1, 1, 2])\n",
    "i=np.where(x==1)[0]\n",
    "if len(i)>=5:\n",
    "    index=i[4]\n",
    "print(index)"
   ]
  },
  {
   "cell_type": "markdown",
   "metadata": {},
   "source": [
    "#### Q2. Compute the Euclidean distance between two arrays a = np.array([1,2,3]) b = np.array([4,5,6])."
   ]
  },
  {
   "cell_type": "code",
   "execution_count": 2,
   "metadata": {},
   "outputs": [
    {
     "name": "stdout",
     "output_type": "stream",
     "text": [
      "5.830951894845301\n"
     ]
    }
   ],
   "source": [
    "a=np.array([1,2])\n",
    "b=np.array([4,7])\n",
    "distance=np.sqrt(np.sum((b-a)**2))\n",
    "print(distance)"
   ]
  },
  {
   "cell_type": "markdown",
   "metadata": {},
   "source": [
    "#### Q3.\n",
    "#### (a) Replace all odd numbers in the array with -1 without changing the array."
   ]
  },
  {
   "cell_type": "code",
   "execution_count": 7,
   "metadata": {},
   "outputs": [
    {
     "name": "stdout",
     "output_type": "stream",
     "text": [
      "Before:  [[8 9 3 2]\n",
      " [8 3 3 5]\n",
      " [4 5 7 2]\n",
      " [8 2 6 2]]\n",
      "After:  [[ 8 -1 -1  2]\n",
      " [ 8 -1 -1 -1]\n",
      " [ 4 -1 -1  2]\n",
      " [ 8  2  6  2]]\n"
     ]
    }
   ],
   "source": [
    "x=np.random.randint(1,10,(4,4))\n",
    "print(\"Before: \",x)\n",
    "x[x%2!=0]=-1\n",
    "print(\"After: \",x)"
   ]
  },
  {
   "cell_type": "markdown",
   "metadata": {},
   "source": [
    "#### (b) From the array a, replace all values greater than 30 to 30 and less than 10 to 10."
   ]
  },
  {
   "cell_type": "code",
   "execution_count": 8,
   "metadata": {},
   "outputs": [
    {
     "name": "stdout",
     "output_type": "stream",
     "text": [
      "Before:  [[37 21 33 33]\n",
      " [30 12  8 22]\n",
      " [38  8  7 32]\n",
      " [31 10 28 23]]\n",
      "After:  [[30 21 30 30]\n",
      " [30 12 10 22]\n",
      " [30 10 10 30]\n",
      " [30 10 28 23]]\n"
     ]
    }
   ],
   "source": [
    "x=np.random.randint(1,40,(4,4))\n",
    "print(\"Before: \",x)\n",
    "x[x>30]=30\n",
    "x[x<10]=10\n",
    "print(\"After: \",x)"
   ]
  },
  {
   "cell_type": "markdown",
   "metadata": {},
   "source": [
    "#### Q4. Create a 4*4 matrix with entries from uniform distribution data in the interval 10 to 20. Normalize the matrix so that the minimum has a value of 0 and the maximum has a value of 1.\n"
   ]
  },
  {
   "cell_type": "code",
   "execution_count": 6,
   "metadata": {},
   "outputs": [
    {
     "name": "stdout",
     "output_type": "stream",
     "text": [
      "[[0.22806511 1.         0.95033576 0.50323795]\n",
      " [0.4259267  0.83445958 0.89960937 0.52685037]\n",
      " [0.43104312 0.09552581 0.73938069 0.58240617]\n",
      " [0.44885941 0.         0.1375678  0.54061639]]\n"
     ]
    }
   ],
   "source": [
    "ar=np.random.standard_normal([4,4])\n",
    "norm=(ar-np.min(ar))/(np.max(ar)-np.min(ar))\n",
    "print(norm)"
   ]
  },
  {
   "cell_type": "markdown",
   "metadata": {},
   "source": [
    "#### Q5. Find the mean, median, and standard deviation of a 1-d array."
   ]
  },
  {
   "cell_type": "code",
   "execution_count": 14,
   "metadata": {},
   "outputs": [
    {
     "name": "stdout",
     "output_type": "stream",
     "text": [
      "[0 1 2 3 4 5 6 7 8 9]\n",
      "Mean:  4.5\n",
      "std:  2.8722813232690143\n",
      "Median:  4\n"
     ]
    }
   ],
   "source": [
    "import math\n",
    "ar= np.arange(10) \n",
    "print(ar)   \n",
    "r1 = np.mean(ar) \n",
    "print(\"Mean: \", r1)  \n",
    "r2 = np.std(ar) \n",
    "print(\"std: \", r2)  \n",
    "r3 = np.median(ar) \n",
    "print(\"Median: \", math.floor(r3))"
   ]
  },
  {
   "cell_type": "markdown",
   "metadata": {},
   "source": [
    "#### Q6. Get all items between 5 and 10 from a. Input: a= [2, 6, 1, 9, 10, 3, 27]."
   ]
  },
  {
   "cell_type": "code",
   "execution_count": 5,
   "metadata": {},
   "outputs": [
    {
     "name": "stdout",
     "output_type": "stream",
     "text": [
      "[6 9]\n"
     ]
    }
   ],
   "source": [
    "a= np.array([2, 6, 1, 9, 10, 3, 27])\n",
    "b=a[(a>5) & (a<10)]\n",
    "print(b)"
   ]
  },
  {
   "cell_type": "markdown",
   "metadata": {},
   "source": [
    "#### Q7. Convert a 1D array to a 2D array with 2 rows."
   ]
  },
  {
   "cell_type": "code",
   "execution_count": 4,
   "metadata": {},
   "outputs": [
    {
     "name": "stdout",
     "output_type": "stream",
     "text": [
      "[4 4 2 1 3 1 4 4 2 2]\n",
      "[[4 4]\n",
      " [2 1]\n",
      " [3 1]\n",
      " [4 4]\n",
      " [2 2]]\n"
     ]
    }
   ],
   "source": [
    "import numpy as np\n",
    "x=np.random.randint(1,5,(10))\n",
    "print(x)\n",
    "if len(x)%2==0:\n",
    "    ar=np.reshape(x,(len(x)//2,2))\n",
    "    print(ar)"
   ]
  },
  {
   "cell_type": "markdown",
   "metadata": {},
   "source": [
    "#### Q8. Create a 2D array and swap the first two rows and two columns."
   ]
  },
  {
   "cell_type": "code",
   "execution_count": 26,
   "metadata": {},
   "outputs": [
    {
     "name": "stdout",
     "output_type": "stream",
     "text": [
      "Before sharing:  [[ 0  1  2  3]\n",
      " [ 4  5  6  7]\n",
      " [ 8  9 10 11]\n",
      " [12 13 14 15]]\n",
      "After Swaping [[ 5  4  6  7]\n",
      " [ 1  0  2  3]\n",
      " [ 9  8 10 11]\n",
      " [13 12 14 15]]\n"
     ]
    }
   ],
   "source": [
    "ar = np.arange(16).reshape(4, 4)\n",
    "print(\"Before sharing: \",ar)\n",
    "ar[[1,0],: ] = ar[[0, 1],: ]\n",
    "ar[:, [1,0]] = ar[:, [0, 1]]\n",
    "print(\"After Swaping\",ar)"
   ]
  },
  {
   "cell_type": "markdown",
   "metadata": {},
   "source": [
    "#### Q9. Find the most frequent values in an array of positive integers. The original array is:"
   ]
  },
  {
   "cell_type": "code",
   "execution_count": 32,
   "metadata": {},
   "outputs": [
    {
     "name": "stdout",
     "output_type": "stream",
     "text": [
      "[6 9 5 1 7 5 1 0 1 5 5 0 8 9 0 7 0 7 6 5 1 1 9 5 3 8 7 9 6 3 4 5 9 7 2 7 0\n",
      " 2 2 6]\n",
      "Most Frequent value:  5\n"
     ]
    }
   ],
   "source": [
    "ar=np.array([6,9,5,1,7,5,1,0,1,5,5,0,8,9,0,7,0,7,6,5,1,1,9,5,3,8,7,9,6,3,4,5,9,7,2,7,0,2,2,6])\n",
    "print(ar)\n",
    "frq=np.bincount(ar).argmax()\n",
    "print(\"Most Frequent value: \",frq)"
   ]
  },
  {
   "cell_type": "markdown",
   "metadata": {},
   "source": [
    "#### Q10. Create a symmetric matrix of order 4*4, whose items are taken from a standard normal distribution."
   ]
  },
  {
   "cell_type": "code",
   "execution_count": 57,
   "metadata": {},
   "outputs": [
    {
     "name": "stdout",
     "output_type": "stream",
     "text": [
      "[[ 1.43473422 -0.03819647  0.10944884 -0.73992402]\n",
      " [-0.03819647  0.42301992  0.37256663 -0.8113106 ]\n",
      " [ 0.10944884  0.37256663 -1.18779274  1.23074369]\n",
      " [-0.73992402 -0.8113106   1.23074369 -0.5619672 ]]\n"
     ]
    }
   ],
   "source": [
    "x=np.random.standard_normal([4,4])\n",
    "sym= (x+x.T)/2\n",
    "print(sym)"
   ]
  },
  {
   "cell_type": "markdown",
   "metadata": {},
   "source": [
    "#### Q11. In a cricket match, a batsman scores any one of {1, 2, 3, 4, 6, 0}. When he scores 0, it will be considered as ”OUT”. If he will face 50 balls maximum, then find the score that he will make before getting ”OUT”. Draw the plot of the run scored by the batsman."
   ]
  },
  {
   "cell_type": "code",
   "execution_count": 13,
   "metadata": {},
   "outputs": [
    {
     "name": "stdout",
     "output_type": "stream",
     "text": [
      "2\n",
      "0\n",
      "The user is out\n",
      "Total run scored:  2\n"
     ]
    }
   ],
   "source": [
    "c=0\n",
    "sum=0\n",
    "while(c<50):\n",
    "    x=np.random.choice([0,1,2,3,4,6])\n",
    "    print(x)\n",
    "    if(x!=0):\n",
    "        sum=sum+x\n",
    "    else:\n",
    "        print(\"The user is out\")\n",
    "        break\n",
    "    c+=1\n",
    "print(\"Total run scored: \",sum)"
   ]
  },
  {
   "cell_type": "markdown",
   "metadata": {},
   "source": [
    "#### Q12. Compute the cross product of two 3*3 matrices."
   ]
  },
  {
   "cell_type": "code",
   "execution_count": 4,
   "metadata": {},
   "outputs": [
    {
     "name": "stdout",
     "output_type": "stream",
     "text": [
      "Cross product of two 3x3 matrices: \n"
     ]
    },
    {
     "data": {
      "text/plain": [
       "array([[ 4.31598629e+00,  6.30488014e+00,  5.54843176e+00],\n",
       "       [ 4.06988981e-01, -1.92363572e+00, -1.08024345e+00],\n",
       "       [ 1.13665348e-01, -3.97226776e-02, -2.30395015e-03]])"
      ]
     },
     "execution_count": 4,
     "metadata": {},
     "output_type": "execute_result"
    }
   ],
   "source": [
    "import numpy as np\n",
    "arr = np.random.standard_normal([3,3])\n",
    "arr1 = np.random.standard_normal([3,3])\n",
    "crs = np.cross(arr, arr1)\n",
    "print(\"Cross product of two 3x3 matrices: \")\n",
    "crs"
   ]
  },
  {
   "cell_type": "markdown",
   "metadata": {},
   "source": [
    "#### Q13. Write a NumPy program to sort the student id with increasing height of the students from the given student id and height. Print the integer indices that describe the sort order by multiple columns and the sorted data."
   ]
  },
  {
   "cell_type": "code",
   "execution_count": null,
   "metadata": {},
   "outputs": [],
   "source": []
  },
  {
   "cell_type": "markdown",
   "metadata": {},
   "source": [
    "#### Q14. Return array of odd rows and even columns from below numpy array :"
   ]
  },
  {
   "cell_type": "code",
   "execution_count": 56,
   "metadata": {},
   "outputs": [
    {
     "name": "stdout",
     "output_type": "stream",
     "text": [
      "[[ 3  6  9 12]\n",
      " [15 18 21 24]\n",
      " [27 30 33 36]\n",
      " [39 42 45 48]\n",
      " [51 54 57 60]]\n",
      "Array of odd rows and even columns: \n",
      "[[ 6 12]\n",
      " [30 36]\n",
      " [54 60]]\n"
     ]
    }
   ],
   "source": [
    "x= np.array([[3, 6, 9, 12], [15, 18, 21, 24], [27, 30, 33, 36], [39, 42, 45, 48], [51, 54, 57, 60]])\n",
    "print(x)\n",
    "x1=x[::2,1:4:2]\n",
    "print(\"Array of odd rows and even columns: \")\n",
    "print(x1)"
   ]
  },
  {
   "cell_type": "markdown",
   "metadata": {},
   "source": [
    "#### Q15. Calculate the sum of all rows and columns of a 2-D NumPy array."
   ]
  },
  {
   "cell_type": "code",
   "execution_count": 47,
   "metadata": {},
   "outputs": [
    {
     "name": "stdout",
     "output_type": "stream",
     "text": [
      "[[ 0  1  2  3]\n",
      " [ 4  5  6  7]\n",
      " [ 8  9 10 11]\n",
      " [12 13 14 15]]\n",
      "Row wise sum:  [ 6 22 38 54]\n",
      "Column wise sum:  [24 28 32 36]\n"
     ]
    }
   ],
   "source": [
    "ar=np.arange(16).reshape(4,4)\n",
    "print(ar)\n",
    "print(\"Row wise sum: \",np.sum(ar,axis=1))\n",
    "print(\"Column wise sum: \",np.sum(ar,axis=0))"
   ]
  },
  {
   "cell_type": "markdown",
   "metadata": {},
   "source": [
    "#### Q16. Write a code to multiply a 5x3 matrix by a 3x2 matrix and create a real matrix product."
   ]
  },
  {
   "cell_type": "code",
   "execution_count": 5,
   "metadata": {},
   "outputs": [
    {
     "name": "stdout",
     "output_type": "stream",
     "text": [
      "Dot product of two arrays:\n"
     ]
    },
    {
     "data": {
      "text/plain": [
       "array([[0.05093981, 0.1558687 ],\n",
       "       [0.14597006, 0.66842121],\n",
       "       [0.12952639, 0.43847653],\n",
       "       [0.13143337, 0.61537858],\n",
       "       [0.27893568, 0.93115919]])"
      ]
     },
     "execution_count": 5,
     "metadata": {},
     "output_type": "execute_result"
    }
   ],
   "source": [
    "x = np.random.random((5,3))\n",
    "y = np.random.random((3,2))\n",
    "z = np.dot(x, y)\n",
    "print(\"Dot product of two arrays:\")\n",
    "z"
   ]
  },
  {
   "cell_type": "markdown",
   "metadata": {},
   "source": [
    "#### Q17. Write a code to find the roots of the polynomials x 2 − 4x + 7 = 0."
   ]
  },
  {
   "cell_type": "code",
   "execution_count": 6,
   "metadata": {},
   "outputs": [
    {
     "name": "stdout",
     "output_type": "stream",
     "text": [
      "[2.+1.73205081j 2.-1.73205081j]\n"
     ]
    }
   ],
   "source": [
    "# Enter the coefficients of the poly in the array \n",
    "cof = [1, -4, 7] \n",
    "print(np.roots(cof))"
   ]
  },
  {
   "cell_type": "markdown",
   "metadata": {},
   "source": [
    "#### Q18. Write a code to create a 5x5 array with random values and normalize it row-wise."
   ]
  },
  {
   "cell_type": "code",
   "execution_count": 7,
   "metadata": {},
   "outputs": [
    {
     "name": "stdout",
     "output_type": "stream",
     "text": [
      "\n",
      "Normalize Array row-wise:\n",
      "[[0.20446547 0.2755387  0.71998712 0.51680923 0.31112547]\n",
      " [0.04475454 0.07797561 0.52991602 0.59526676 0.59729669]\n",
      " [0.19092652 0.33253868 0.58244633 0.33211073 0.63515654]\n",
      " [0.37720269 0.88639608 0.04442875 0.23808939 0.11558395]\n",
      " [0.70238709 0.50474449 0.31414614 0.19944828 0.33677585]]\n"
     ]
    }
   ],
   "source": [
    "nums = np.random.rand(5, 5)\n",
    "norm_arr = nums / np.linalg.norm(nums, axis=1, keepdims=True)\n",
    "#This calculates the Euclidean norm of each row in nums.\n",
    "#The axis=1 argument specifies that the norm should be calculated along the rows,\n",
    "#and keepdims=True ensures that the result is a column vector with the same number of dimensions as nums.\n",
    "print(\"\\nNormalize Array row-wise:\")\n",
    "print(norm_arr)"
   ]
  },
  {
   "cell_type": "markdown",
   "metadata": {},
   "source": [
    "#### Q19. Write a NumPy program to create a 9*9*2 array with random values and extract any array of shape (5,5,2) from the said array."
   ]
  },
  {
   "cell_type": "code",
   "execution_count": 40,
   "metadata": {},
   "outputs": [
    {
     "name": "stdout",
     "output_type": "stream",
     "text": [
      "After extracting an array of (5,5,2): \n"
     ]
    },
    {
     "data": {
      "text/plain": [
       "array([[[-1.09088812e+00, -1.05367626e+00],\n",
       "        [ 1.26783054e+00,  1.30778639e+00],\n",
       "        [ 2.43093905e-04, -1.53278480e+00],\n",
       "        [-7.42512144e-01, -2.12852884e+00],\n",
       "        [ 1.78560292e-01,  1.41716680e+00]],\n",
       "\n",
       "       [[-1.62648137e-01, -8.85494188e-01],\n",
       "        [ 1.03782447e+00,  9.64226316e-01],\n",
       "        [ 7.32763604e-02,  1.15776178e-01],\n",
       "        [ 2.48061143e-01,  8.21023697e-01],\n",
       "        [-6.36921119e-01,  1.77458458e+00]],\n",
       "\n",
       "       [[ 1.46589689e+00, -4.81628697e-01],\n",
       "        [-4.85620580e-01, -1.32115312e-01],\n",
       "        [-7.95348597e-01, -1.00672736e+00],\n",
       "        [-4.27841664e-02, -1.03631681e+00],\n",
       "        [ 1.71130262e+00,  3.94207687e-01]],\n",
       "\n",
       "       [[ 2.42389004e+00,  1.67817291e+00],\n",
       "        [ 6.00905383e-01,  5.63711567e-01],\n",
       "        [ 6.23134656e-01,  1.39701817e+00],\n",
       "        [ 2.50660523e-01,  3.04255522e-01],\n",
       "        [-1.24523096e-01, -1.99148996e+00]],\n",
       "\n",
       "       [[-1.80609277e-01,  2.83245314e-01],\n",
       "        [ 2.72455246e-01,  3.90885221e-01],\n",
       "        [-1.05946927e+00, -7.29146670e-01],\n",
       "        [-5.57133348e-01, -6.40572096e-01],\n",
       "        [-1.73849506e+00,  1.36860012e+00]]])"
      ]
     },
     "execution_count": 40,
     "metadata": {},
     "output_type": "execute_result"
    }
   ],
   "source": [
    "ar=np.random.randn(9,9,2)\n",
    "ar1=ar[:5, :5, :]\n",
    "print(\"After extracting an array of (5,5,2): \")\n",
    "ar1"
   ]
  },
  {
   "cell_type": "markdown",
   "metadata": {},
   "source": [
    "#### Q20. Write a code to create a 4*4 array with random values and sort each column."
   ]
  },
  {
   "cell_type": "code",
   "execution_count": 33,
   "metadata": {},
   "outputs": [
    {
     "name": "stdout",
     "output_type": "stream",
     "text": [
      "Before sorting:  [[-1.67300543  0.04009479 -0.1963192   1.25973957]\n",
      " [-0.77217869 -0.3440783  -0.23838152 -0.46997477]\n",
      " [ 1.02054766 -0.95921059 -0.62573807  1.73734441]\n",
      " [ 0.56015483 -0.00583576  1.33241741  0.12307007]]\n",
      "After sorting [[-1.67300543 -0.1963192   0.04009479  1.25973957]\n",
      " [-0.77217869 -0.46997477 -0.3440783  -0.23838152]\n",
      " [-0.95921059 -0.62573807  1.02054766  1.73734441]\n",
      " [-0.00583576  0.12307007  0.56015483  1.33241741]]\n"
     ]
    }
   ],
   "source": [
    "ar=np.random.randn(4,4)\n",
    "print(\"Before sorting: \",ar)\n",
    "print(\"After sorting\",np.sort(ar)) "
   ]
  }
 ],
 "metadata": {
  "kernelspec": {
   "display_name": "Python 3",
   "language": "python",
   "name": "python3"
  },
  "language_info": {
   "codemirror_mode": {
    "name": "ipython",
    "version": 3
   },
   "file_extension": ".py",
   "mimetype": "text/x-python",
   "name": "python",
   "nbconvert_exporter": "python",
   "pygments_lexer": "ipython3",
   "version": "3.7.3"
  }
 },
 "nbformat": 4,
 "nbformat_minor": 2
}
