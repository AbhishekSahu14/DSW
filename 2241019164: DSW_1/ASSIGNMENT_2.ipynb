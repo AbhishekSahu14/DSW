{
 "cells": [
  {
   "cell_type": "markdown",
   "metadata": {},
   "source": [
    "# Assignment_2"
   ]
  },
  {
   "cell_type": "markdown",
   "metadata": {},
   "source": [
    "#### Q1. Write a python script to solve the following problems.(Don’t use loops or functions for the following problems):\n",
    "#### a. Given a positive integer, determine it is an even number or odd number."
   ]
  },
  {
   "cell_type": "code",
   "execution_count": 2,
   "metadata": {},
   "outputs": [
    {
     "name": "stdout",
     "output_type": "stream",
     "text": [
      "Enter a no: 9\n",
      "It's an odd no.\n"
     ]
    }
   ],
   "source": [
    "n=int(input(\"Enter a no: \"))\n",
    "if n%2==0:\n",
    "    print(\"It's an even no.\")\n",
    "else:\n",
    "    print(\"It's an odd no.\")"
   ]
  },
  {
   "cell_type": "markdown",
   "metadata": {},
   "source": [
    "#### b. Given a string check it is a palindrome or not. Hint: Use string slicing with step=-1 to reverse the string."
   ]
  },
  {
   "cell_type": "code",
   "execution_count": 4,
   "metadata": {},
   "outputs": [
    {
     "name": "stdout",
     "output_type": "stream",
     "text": [
      "Enter a string: abracadabra\n",
      "It's not an palindrom string\n"
     ]
    }
   ],
   "source": [
    "string=str(input(\"Enter a string: \"))\n",
    "if string==string[::-1]:\n",
    "    print(\"It's an palindrom string.\")\n",
    "else:\n",
    "    print(\"It's not an palindrom string.\")"
   ]
  },
  {
   "cell_type": "markdown",
   "metadata": {},
   "source": [
    "#### c. Given an alphabet, check whether it is a vowel or a consonant."
   ]
  },
  {
   "cell_type": "code",
   "execution_count": 13,
   "metadata": {},
   "outputs": [
    {
     "name": "stdout",
     "output_type": "stream",
     "text": [
      "Enter a alphabet: a\n",
      "It's a vowel.\n"
     ]
    }
   ],
   "source": [
    "alp=input(\"Enter a alphabet: \")\n",
    "if alp in ('a','A','e','E','i','I','o','O','u','U'):\n",
    "    print(\"It's a vowel.\")\n",
    "else:\n",
    "    print(\"It's a consonant\")"
   ]
  },
  {
   "cell_type": "markdown",
   "metadata": {},
   "source": [
    "#### d. Given a month and date, find which season does it belong to. Hint: Dec21-Mar20: winter, Mar21- June20: Spring, June21-Sep20: Summer, Sep21-Dec20: Fall"
   ]
  },
  {
   "cell_type": "code",
   "execution_count": 23,
   "metadata": {},
   "outputs": [
    {
     "name": "stdout",
     "output_type": "stream",
     "text": [
      "Enter the month: march\n",
      "Enter the day: 21\n",
      "It's a  autumn  season\n"
     ]
    }
   ],
   "source": [
    "month= input(\"Enter the month: \")\n",
    "day= int(input(\"Enter the day: \"))\n",
    "\n",
    "if month in ('january', 'february', 'march'):\n",
    "    if (month == 'march') and (day > 19):\n",
    "        season = 'autumn'\n",
    "    else:\n",
    "        season = 'winter'\n",
    "elif month in ('april', 'may', 'june'):\n",
    "    if (month == 'june') and (day > 20):\n",
    "        season = 'summer'\n",
    "    else:\n",
    "        season = 'spring'\n",
    "elif month in ('july', 'august', 'september'):\n",
    "    if (month == 'september') and (day > 21):\n",
    "        season = 'autumn'\n",
    "    else:\n",
    "        season = 'summer'\n",
    "else:\n",
    "    season = 'winter'\n",
    "\n",
    "print(\"It's a \",season,\" season\")"
   ]
  },
  {
   "cell_type": "markdown",
   "metadata": {},
   "source": [
    "#### e. Given a year find it is a leap year or not. Hint: A year that is an integer multiple of 4"
   ]
  },
  {
   "cell_type": "code",
   "execution_count": 24,
   "metadata": {},
   "outputs": [
    {
     "name": "stdout",
     "output_type": "stream",
     "text": [
      "Enter the year :2000\n",
      "2000  is the leap year\n"
     ]
    }
   ],
   "source": [
    "z=int(input(\"Enter the year :\"))\n",
    "if z%400==0 or (z%4==0 and z%100!=0):\n",
    "    print(z,\" is the leap year\")\n",
    "else:\n",
    "    print(z,\" is not the leap year\")"
   ]
  },
  {
   "cell_type": "markdown",
   "metadata": {},
   "source": [
    "#### Q2.a Create functions add(), subtract(), multiply(), division(), so that we can get same value for the following two expressions. 2 + 3 − 4 ∗ 5/6 and subtract(add(2,3),multiply(division(5,6),4))"
   ]
  },
  {
   "cell_type": "code",
   "execution_count": 5,
   "metadata": {},
   "outputs": [
    {
     "name": "stdout",
     "output_type": "stream",
     "text": [
      "1.6666666666666665 1.6666666666666665\n"
     ]
    }
   ],
   "source": [
    "def add(x,y):\n",
    "    return x+y\n",
    "\n",
    "def sub(x,y):\n",
    "    return x-y\n",
    "\n",
    "def multi(x,y):\n",
    "    return x*y\n",
    "\n",
    "def div(x,y):\n",
    "    return x/y\n",
    "\n",
    "ans1=2+3-4*5/6\n",
    "ans2=sub(add(2,3),multi(div(5,6),4))\n",
    "print(ans1,ans2)"
   ]
  },
  {
   "cell_type": "markdown",
   "metadata": {},
   "source": [
    "#### b.Write a python function solution(a,b,c) to find the quadratic roots of the equation"
   ]
  },
  {
   "cell_type": "code",
   "execution_count": 26,
   "metadata": {},
   "outputs": [
    {
     "name": "stdout",
     "output_type": "stream",
     "text": [
      "Imaginary roots\n"
     ]
    }
   ],
   "source": [
    "import math\n",
    "def quad(a,b,c):\n",
    "    if b*b-4*a*c>0:\n",
    "        r1=(-b+math.sqrt(b*b-4*a*c))/2*a\n",
    "        r2=(-b-math.sqrt(b*b-4*a*c))/2*a\n",
    "        return (r1,r2)\n",
    "    else:\n",
    "        return 'Imaginary roots'\n",
    "print(quad(5,10,7))"
   ]
  },
  {
   "cell_type": "markdown",
   "metadata": {},
   "source": [
    "#### c. Write a python HI(x), which will show output, ”Hi x”, when the argument ’x’ is passed to the function Hi()."
   ]
  },
  {
   "cell_type": "code",
   "execution_count": 34,
   "metadata": {},
   "outputs": [
    {
     "name": "stdout",
     "output_type": "stream",
     "text": [
      "Hi 5\n"
     ]
    }
   ],
   "source": [
    "def Hi(x):\n",
    "    return 'Hi '+str(x)\n",
    "print(Hi(5))"
   ]
  },
  {
   "cell_type": "markdown",
   "metadata": {},
   "source": [
    "#### d. Write two python functions mean() and median(), to find the mean and median of three numbers"
   ]
  },
  {
   "cell_type": "code",
   "execution_count": 35,
   "metadata": {},
   "outputs": [
    {
     "name": "stdout",
     "output_type": "stream",
     "text": [
      "6.666666666666667\n",
      "5\n"
     ]
    }
   ],
   "source": [
    "def mean(x,y,z):\n",
    "    return x+y+z/3\n",
    "print(mean(2,3,5))\n",
    "\n",
    "def median(x,y,z):\n",
    "    return (x+y+z -max(x,y,z)-min(x,y,z))\n",
    "print(median(8,3,5))"
   ]
  },
  {
   "cell_type": "markdown",
   "metadata": {},
   "source": [
    "#### e. Write a function to compute sum of first n natural numbers."
   ]
  },
  {
   "cell_type": "code",
   "execution_count": 3,
   "metadata": {},
   "outputs": [
    {
     "name": "stdout",
     "output_type": "stream",
     "text": [
      "21.0\n"
     ]
    }
   ],
   "source": [
    "def sum_first(n):\n",
    "    return n*(n+1)/2;\n",
    "print(sum_first(6))"
   ]
  },
  {
   "cell_type": "markdown",
   "metadata": {},
   "source": [
    "#### Q3. In this exercise you will create a program that displays a multiplication table that shows the products of all combinations of integers from 1 times 1 up to and including 10 times 10. Your multiplication table should include a row of labels across the top of it containing the numbers 1 through 10. It should also include labels down the left side consisting of the numbers 1 through 10."
   ]
  },
  {
   "cell_type": "code",
   "execution_count": 46,
   "metadata": {},
   "outputs": [
    {
     "name": "stdout",
     "output_type": "stream",
     "text": [
      "       1   2   3   4   5   6   7   8   9  10\n",
      "   1   1   2   3   4   5   6   7   8   9  10\n",
      "   2   2   4   6   8  10  12  14  16  18  20\n",
      "   3   3   6   9  12  15  18  21  24  27  30\n",
      "   4   4   8  12  16  20  24  28  32  36  40\n",
      "   5   5  10  15  20  25  30  35  40  45  50\n",
      "   6   6  12  18  24  30  36  42  48  54  60\n",
      "   7   7  14  21  28  35  42  49  56  63  70\n",
      "   8   8  16  24  32  40  48  56  64  72  80\n",
      "   9   9  18  27  36  45  54  63  72  81  90\n",
      "  10  10  20  30  40  50  60  70  80  90 100\n"
     ]
    }
   ],
   "source": [
    "min = 1\n",
    "max = 10\n",
    "print (\"    \", end=\"\")\n",
    "for i in range(min, max+1):\n",
    "    print(\"%4d\" %i, end=\"\")\n",
    "print()\n",
    "\n",
    "for i in range(min, max+1):\n",
    "    print (\"%4d\" %i,  end=\"\")\n",
    "    for   j  in  range(min, max+1):\n",
    "        print(\"%4d\" %  (i*j), end=\"\")\n",
    "    print()"
   ]
  },
  {
   "cell_type": "markdown",
   "metadata": {},
   "source": [
    "#### Q4. Write a function that accepts as an input parameter the number of rows to be printed and prints a figure: "
   ]
  },
  {
   "cell_type": "code",
   "execution_count": 4,
   "metadata": {},
   "outputs": [
    {
     "name": "stdout",
     "output_type": "stream",
     "text": [
      "   1\n",
      "  212\n",
      " 32123\n",
      "4321234\n"
     ]
    }
   ],
   "source": [
    "s=\"1\"\n",
    "for i in range(2,6):\n",
    "    print(' '*(5-i)+s)\n",
    "    s=str(i)+s+str(i)"
   ]
  },
  {
   "cell_type": "code",
   "execution_count": 53,
   "metadata": {},
   "outputs": [
    {
     "name": "stdout",
     "output_type": "stream",
     "text": [
      "5 4 3 2 1 \n",
      "4 3 2 1 \n",
      "3 2 1 \n",
      "2 1 \n",
      "1 \n",
      "\n"
     ]
    }
   ],
   "source": [
    "for i in range(0,6):\n",
    "    for j in range(5-i,0,-1):\n",
    "        print(j, end=' ')\n",
    "    print()"
   ]
  },
  {
   "cell_type": "code",
   "execution_count": 57,
   "metadata": {},
   "outputs": [
    {
     "name": "stdout",
     "output_type": "stream",
     "text": [
      "   *\n",
      "  ***\n",
      " *****\n",
      "*******\n",
      " *****\n",
      "  ***\n",
      "   *\n"
     ]
    }
   ],
   "source": [
    "n = 4\n",
    "for i in range(n):\n",
    "    for j in range(n - i - 1):\n",
    "        print(' ', end='')\n",
    "    for j in range(2 * i + 1):\n",
    "        print('*', end='')\n",
    "    print()\n",
    "    \n",
    "for i in range(n - 1):\n",
    "    for j in range(i + 1):\n",
    "        print(' ', end='')\n",
    "    for j in range(2*(n - i - 1) - 1):\n",
    "        print('*', end='')\n",
    "    print()"
   ]
  }
 ],
 "metadata": {
  "kernelspec": {
   "display_name": "Python 3",
   "language": "python",
   "name": "python3"
  },
  "language_info": {
   "codemirror_mode": {
    "name": "ipython",
    "version": 3
   },
   "file_extension": ".py",
   "mimetype": "text/x-python",
   "name": "python",
   "nbconvert_exporter": "python",
   "pygments_lexer": "ipython3",
   "version": "3.7.3"
  }
 },
 "nbformat": 4,
 "nbformat_minor": 2
}
