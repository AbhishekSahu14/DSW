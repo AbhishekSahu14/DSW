{
 "cells": [
  {
   "cell_type": "markdown",
   "metadata": {},
   "source": [
    "# Assignment_1"
   ]
  },
  {
   "cell_type": "markdown",
   "metadata": {},
   "source": [
    "#### Q1.Write a Python script to show the output as"
   ]
  },
  {
   "cell_type": "code",
   "execution_count": 9,
   "metadata": {},
   "outputs": [
    {
     "name": "stdout",
     "output_type": "stream",
     "text": [
      "\"I'm a 'student' of ITER.\"\n",
      "My name is \n",
      "Abhishek!\n"
     ]
    }
   ],
   "source": [
    "print(\"\\\"I'm a \\'student\\' of ITER.\\\"\")\n",
    "print(\"My name is \\nAbhishek!\")"
   ]
  },
  {
   "cell_type": "markdown",
   "metadata": {},
   "source": [
    "#### Q2.Find the outputs for the following scripts."
   ]
  },
  {
   "cell_type": "code",
   "execution_count": 2,
   "metadata": {},
   "outputs": [
    {
     "name": "stdout",
     "output_type": "stream",
     "text": [
      "-6\n",
      "4\n",
      "0\n",
      "1\n",
      "-85.0\n",
      "-25\n",
      "hellohellohello\n",
      "True\n",
      "True\n"
     ]
    }
   ],
   "source": [
    "print(~5)\n",
    "print(5 & 6)\n",
    "print(0 & 6)\n",
    "print(0 | 1)\n",
    "print(-7*20+8/16*2+54)\n",
    "print(5%10+10-25*8//5)\n",
    "print(\"hello\"*(5-2))\n",
    "print(\"hi\">\"hello\" or \"bye\"<\"Bye\")\n",
    "print(10!=9 and 29>=29 and \"hi\">\"hello\" or \"bye\"<\"Bye\" and 7<=2.5)"
   ]
  },
  {
   "cell_type": "markdown",
   "metadata": {},
   "source": [
    "#### Q3.Differentiate between the following and give examples:"
   ]
  },
  {
   "cell_type": "markdown",
   "metadata": {},
   "source": [
    "1.=  : This operator assigns a value to a variable.\n",
    "  == : This operator verifies the Python equality of two different variables\n",
    "\n",
    "2./ : This divison(float) operator carries out the float division. The output of this operator is always a quotient with a float datatype.\n",
    "  % : This Modulus operator returns the remainder when the first operand is divided by the second\n",
    "\n",
    "3./  : This operator carries out the float division. The output of this operator is always a quotient with a float datatype.\n",
    "  // : This divison(floor) operator carries out integer division which is also known as floor division. The output of this operator will be the quotient rounded off to the closest whole number.\n",
    "\n",
    "4.*  : this operator is used for multiplication of numbers or repetition of strings or lists.\n",
    "  ** : this power operator is used for exponentiation of numbers.\n",
    "\n",
    "5.x=x*10  : this will assign the value of (x*10) to the variable x.\n",
    "  x*=x*10 : this will assign the value of (x*(x*10)) to the variable x.\n",
    "\n",
    "6.Compiled language   : It is converted into machine code so that the processor can execute it.\n",
    "  Interpreted language: It is a language in which the implementations execute instructions directly without         earlier compiling a program into machine language.\n",
    "\n",
    "7.Data analyst  : A data analyst analyzes existing data.\n",
    "  Data scientist: Along with analyzing existing data, a data scientists create new ways of capturing and analyzing   data for analysts to utilize."
   ]
  },
  {
   "cell_type": "markdown",
   "metadata": {},
   "source": [
    "#### Q4.Construct logical expressions for representing the following conditions:"
   ]
  },
  {
   "cell_type": "code",
   "execution_count": 2,
   "metadata": {},
   "outputs": [
    {
     "name": "stdout",
     "output_type": "stream",
     "text": [
      "Enter the mark: 312\n",
      "True\n",
      "please enter the grade: a\n",
      "False\n",
      "Enter the post: engineer\n",
      "Experience: 3\n",
      "False\n"
     ]
    }
   ],
   "source": [
    "mark= int(input(\"Enter the mark: \"))\n",
    "print(mark>=300 and mark<=400)\n",
    "\n",
    "ch= str(input(\"please enter the grade: \"))\n",
    "print(ch>='A' and ch<='Z')\n",
    "\n",
    "post=str(input(\"Enter the post: \"))\n",
    "exp=int(input(\"Experience: \"))\n",
    "print(post=='engineer' and exp>=4)"
   ]
  },
  {
   "cell_type": "markdown",
   "metadata": {},
   "source": [
    "#### Q5.Create a program that reads the length and width of a farmer’s field from the user in feet. Display the area of the field in acres. Hint: There are 43,560 square feet in an acre."
   ]
  },
  {
   "cell_type": "code",
   "execution_count": 3,
   "metadata": {},
   "outputs": [
    {
     "name": "stdout",
     "output_type": "stream",
     "text": [
      "Enter the length of field: 23\n",
      "Enter the width of field: 78\n",
      "Area of the field in acre:  0.04118457300275482\n"
     ]
    }
   ],
   "source": [
    "length=int(input(\"Enter the length of field: \"))\n",
    "width=int(input(\"Enter the width of field: \"))\n",
    "area=length*width/43560\n",
    "print(\"Area of the field in acre: \",area)"
   ]
  },
  {
   "cell_type": "markdown",
   "metadata": {},
   "source": [
    "#### Q6.An online retailer sells two products: Soap and Shampoo. Each soap costs 75 rs. Each shampoo costs 111 rs. Write a program that reads the number of soaps and the number of shampoo from the user. Then your program should compute and display the total price for the order."
   ]
  },
  {
   "cell_type": "code",
   "execution_count": 4,
   "metadata": {},
   "outputs": [
    {
     "name": "stdout",
     "output_type": "stream",
     "text": [
      "Enter the no of soap: 6\n",
      "Enter the no of shampoo: 9\n",
      "Area of the field in acre:  1449\n"
     ]
    }
   ],
   "source": [
    "soap=int(input(\"Enter the no of soap: \"))\n",
    "shampoo=int(input(\"Enter the no of shampoo: \"))\n",
    "cost=(soap*75) + (111*shampoo)\n",
    "print(\"Area of the field in acre: \",cost)"
   ]
  },
  {
   "cell_type": "markdown",
   "metadata": {},
   "source": [
    "#### Q7.Write a program that determines how quickly an object is travelling when it hits the ground. The user will enter the height from which the object is dropped in meters (m). Because the object is dropped its initial speed is 0 m/s. Assume that the acceleration due to gravity is 9.8m/s2."
   ]
  },
  {
   "cell_type": "code",
   "execution_count": 7,
   "metadata": {},
   "outputs": [
    {
     "name": "stdout",
     "output_type": "stream",
     "text": [
      "Enter the height in meter: 4\n",
      "Speed of the object:  8.854377448471462\n"
     ]
    }
   ],
   "source": [
    "import math\n",
    "d=int(input(\"Enter the height in meter: \"))\n",
    "v=0\n",
    "a=9.8\n",
    "speed=math.sqrt(v*v + 2*a*d)\n",
    "print(\"Speed of the object: \",speed)"
   ]
  },
  {
   "cell_type": "markdown",
   "metadata": {},
   "source": [
    "#### Q8.Write a program that reads a four-digit integer from the user and displays the sum of its digits. For example, if the user enters 3141 then your program should display 3 + 1 + 4 + 1 = 9."
   ]
  },
  {
   "cell_type": "code",
   "execution_count": 5,
   "metadata": {},
   "outputs": [
    {
     "name": "stdout",
     "output_type": "stream",
     "text": [
      "Enter the 4-digit no: 4325\n",
      "Sum of the digit:  14\n"
     ]
    }
   ],
   "source": [
    "x=int(input(\"Enter the 4-digit no: \"))\n",
    "sum=0\n",
    "sum+=x%10\n",
    "x=x//10\n",
    "sum+=x%10\n",
    "x=x//10\n",
    "sum+=x%10\n",
    "x=x//10\n",
    "sum+=x%10\n",
    "print(\"Sum of the digit: \",sum)"
   ]
  },
  {
   "cell_type": "markdown",
   "metadata": {},
   "source": [
    "#### Q9.Write a program that reads three integers from the user and displays them in sorted order (from smallest to largest). Use the min and max functions to find the smallest and largest values. The middle value can be found by computing the sum of all three values, and then subtracting the minimum value and the maximum value."
   ]
  },
  {
   "cell_type": "code",
   "execution_count": 6,
   "metadata": {},
   "outputs": [
    {
     "name": "stdout",
     "output_type": "stream",
     "text": [
      "Enter the 1st no: 4\n",
      "Enter the 2nd no: 7\n",
      "Enter the 3rd no: 1\n",
      "Max NO:  7\n",
      "Min NO:  1\n",
      "NO in sorted order:  1 4 7\n"
     ]
    }
   ],
   "source": [
    "x=int(input(\"Enter the 1st no: \"))\n",
    "y=int(input(\"Enter the 2nd no: \"))\n",
    "z=int(input(\"Enter the 3rd no: \"))\n",
    "maxxx=max(x,y,z)\n",
    "minnn=min(x,y,z)\n",
    "mid= x+y+z-maxxx-minnn\n",
    "print(\"Max NO: \",maxxx)\n",
    "print(\"Min NO: \",minnn)\n",
    "print(\"NO in sorted order: \",minnn,mid,maxxx)"
   ]
  },
  {
   "cell_type": "markdown",
   "metadata": {},
   "source": [
    "#### Q10.Create a program that reads duration from the user as a number of days, hours, minutes, and seconds. Compute and display the total number of seconds represented by this duration."
   ]
  },
  {
   "cell_type": "code",
   "execution_count": 10,
   "metadata": {},
   "outputs": [
    {
     "name": "stdout",
     "output_type": "stream",
     "text": [
      "Enter the no of days: 5\n",
      "Enter the no of hour: 3\n",
      "Enter the no of min: 57\n",
      "Enter the seconds: 24\n",
      "Total no of seconds in given period:  446244\n"
     ]
    }
   ],
   "source": [
    "d=int(input(\"Enter the no of days: \"))\n",
    "h=int(input(\"Enter the no of hour: \"))\n",
    "m=int(input(\"Enter the no of min: \"))\n",
    "s=int(input(\"Enter the seconds: \"))\n",
    "total=d*24*60*60+h*60*60+m*60+s\n",
    "print(\"Total no of seconds in given period: \",total)"
   ]
  },
  {
   "cell_type": "markdown",
   "metadata": {},
   "source": [
    "#### Q11.Write a program that begins by reading a radius, r, from the user. The program will continue by computing and displaying the area of a circle with radius r and the volume of a sphere with radius r. Use the pi constant in the math module in your calculations."
   ]
  },
  {
   "cell_type": "code",
   "execution_count": 7,
   "metadata": {},
   "outputs": [
    {
     "name": "stdout",
     "output_type": "stream",
     "text": [
      "Enter the radius of circle: 5\n",
      "Area:  78.53981633974483\n",
      "Volume of the sphere of radius r:  523.5987755982989\n"
     ]
    }
   ],
   "source": [
    "import math\n",
    "r=int(input(\"Enter the radius of circle: \"))\n",
    "area=math.pi*r*r\n",
    "vol=4/3*math.pi*r*r*r\n",
    "print(\"Area: \",area)\n",
    "print(\"Volume of the sphere of radius r: \",vol)"
   ]
  },
  {
   "cell_type": "markdown",
   "metadata": {},
   "source": [
    "#### Q12.Find the output and describe the mnethod that is used in the question. Let the string str is given by"
   ]
  },
  {
   "cell_type": "code",
   "execution_count": 12,
   "metadata": {},
   "outputs": [
    {
     "name": "stdout",
     "output_type": "stream",
     "text": [
      "40\n",
      "HEY! HELLO!, CAN YOU HEAR ME, MR. HELLO?\n",
      "hey! hello!, can you hear me, mr. hello?\n",
      "Hey! Hello!, Can You Hear Me, Mr. Hello?\n",
      "Hey! hello!, can you hear me, mr. hello?\n",
      "hEY! hELLO!, cAN YOU HEAR ME, mR. hELLO?\n",
      "['Hey! Hello!', ' Can you hear me', ' Mr. Hello?']\n",
      "0\n",
      "34\n",
      "5\n",
      "False\n",
      "False\n",
      "3\n",
      "1\n",
      "True\n",
      "Hey! Hello!, Can you hear me, Mr. Hello?\n",
      "Hey! Virat!, Can you hear me, Mr. Virat?\n",
      "Hey! Virat!, Can you hear me, Mr. Hello?\n",
      "False\n",
      "('Hey', '!', ' Hello!, Can you hear me, Mr. Hello?')\n"
     ]
    }
   ],
   "source": [
    "x=\"Hey! Hello!, Can you hear me, Mr. Hello?\"\n",
    "print(len(x))\n",
    "print(x.upper())\n",
    "print(x.lower())\n",
    "print(x.title())\n",
    "print(x.capitalize())\n",
    "print(x.swapcase())\n",
    "print(x.split(\",\"))\n",
    "print(x.find(\"He\"))\n",
    "print(x.rfind(\"He\"))\n",
    "print(x.find(\"He\",4,12))\n",
    "print(x.isalpha())\n",
    "print(x.islower())\n",
    "print(x.count(\"He\"))\n",
    "print(x.count(\"He\",3,10))\n",
    "print(x.startswith(\"Hey\"))\n",
    "print(x.rstrip(\"H\"))\n",
    "print(x.replace(\"Hello\",\"Virat\"))\n",
    "print(x.replace(\"Hello\",\"Virat\",1))\n",
    "print(x.endswith(\"!\"))\n",
    "print(x.partition(\"!\"))"
   ]
  },
  {
   "cell_type": "markdown",
   "metadata": {},
   "source": [
    "#### Q13.For the given string, write the outputs of the followings."
   ]
  },
  {
   "cell_type": "code",
   "execution_count": 13,
   "metadata": {},
   "outputs": [
    {
     "name": "stdout",
     "output_type": "stream",
     "text": [
      " He\n",
      "Hey! He\n",
      " Hello!, Can you hear me, Mr. Hello?\n",
      "Hey! Hello!, Can you hear me, Mr. Hello?\n",
      "H$e$y$!$ $H$e$l$l$o$!$,$ $C$a$n$ $y$o$u$ $h$e$a$r$ $m$e$,$ $M$r$.$ $H$e$l$l$o$?\n"
     ]
    }
   ],
   "source": [
    "y=\"Hey! Hello!, Can you hear me, Mr. Hello?\"\n",
    "print(y[4:7])\n",
    "print(y[:7])\n",
    "print(y[4:])\n",
    "print(y[-len(y):len(y)])\n",
    "print('$'.join(y))"
   ]
  }
 ],
 "metadata": {
  "kernelspec": {
   "display_name": "Python 3",
   "language": "python",
   "name": "python3"
  },
  "language_info": {
   "codemirror_mode": {
    "name": "ipython",
    "version": 3
   },
   "file_extension": ".py",
   "mimetype": "text/x-python",
   "name": "python",
   "nbconvert_exporter": "python",
   "pygments_lexer": "ipython3",
   "version": "3.7.3"
  }
 },
 "nbformat": 4,
 "nbformat_minor": 2
}
